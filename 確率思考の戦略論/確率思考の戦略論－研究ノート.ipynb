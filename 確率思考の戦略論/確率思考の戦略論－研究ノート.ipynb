{
 "cells": [
  {
   "cell_type": "markdown",
   "metadata": {},
   "source": [
    "<p style=\"text-align: center;\">\n",
    "<font size=\"6\">確率思考の戦略論－研究ノート</font>\n",
    "</p>\n",
    "<p style=\"text-align: right;\">\n",
    "<font size=\"4\">鈴木涼祐</font>\n",
    "</p>"
   ]
  },
  {
   "cell_type": "markdown",
   "metadata": {},
   "source": [
    "<h1>Goal</h1>"
   ]
  },
  {
   "cell_type": "markdown",
   "metadata": {},
   "source": [
    "<ul>\n",
    "<li>目的とする数字を達成するためには何をどれくらい積み上げればいいのかを明確化する。</li>\n",
    "    <ul><li>なお、各指標のつみあがり方は複数あるべき。戦略オプション。</li></ul>\n",
    "<li>明確化された指標をもとに、それを一定期間で達成するための戦術を策定する。</li>\n",
    "</ul>"
   ]
  },
  {
   "cell_type": "markdown",
   "metadata": {},
   "source": [
    "<h1>確率理論の導入</h1>"
   ]
  },
  {
   "cell_type": "markdown",
   "metadata": {},
   "source": [
    "<h2>二項分布 (Bi-nominal Distribution)</h2>"
   ]
  },
  {
   "cell_type": "markdown",
   "metadata": {},
   "source": [
    "<h3>概説</h3>"
   ]
  },
  {
   "cell_type": "markdown",
   "metadata": {},
   "source": [
    "<p>袋の中に赤だまと白だまの二種類が入っており</p>\n",
    "<ul>\n",
    "    <li>全部でn個</li>\n",
    "    <li>赤玉θ個</li>\n",
    "    <li>白玉 n-θ 個</li>\n",
    "</ul>\n",
    "<p>となっており、</p>\n",
    "<ul>\n",
    "    <li>中を見ないで玉を一個取り出す：ランダムサンプリング</li>\n",
    "    <li>取り出した玉は毎回袋に戻す：毎回の試行で特定の玉が選ばれる確率が一定</li>\n",
    "    <li>これをN回繰り返す</li>\n",
    "</ul>\n",
    "<p>N回中r回赤玉が出る確率は下式で表される。（式1）</p>"
   ]
  },
  {
   "cell_type": "code",
   "execution_count": 31,
   "metadata": {
    "collapsed": false
   },
   "outputs": [
    {
     "data": {
      "image/png": "[encoded data removed]",
      "text/latex": [
       "$$\\frac{\\left(\\frac{\\theta}{n}\\right)^{r} \\left(\\frac{1}{n} \\left(n - \\theta\\right)\\right)^{N - r} N!}{r! \\left(N - r\\right)!}$$"
      ],
      "text/plain": [
       "   r        N - r   \n",
       "⎛θ⎞  ⎛n - θ⎞        \n",
       "⎜─⎟ ⋅⎜─────⎟     ⋅N!\n",
       "⎝n⎠  ⎝  n  ⎠        \n",
       "────────────────────\n",
       "    r!⋅(N - r)!     "
      ]
     },
     "execution_count": 31,
     "metadata": {},
     "output_type": "execute_result"
    }
   ],
   "source": [
    "from sympy import *\n",
    "init_printing()\n",
    "N = Symbol('N')\n",
    "r = Symbol('r')\n",
    "theta = Symbol('theta')\n",
    "n = Symbol('n')\n",
    "formula1 = (factorial(N) / (factorial(r) * factorial(N-r))) * (theta/n)**r * ((n - theta)/n)**(N-r)\n",
    "formula1"
   ]
  },
  {
   "cell_type": "markdown",
   "metadata": {},
   "source": [
    "<p>また、赤玉の出る平均回数μは次の式で表される。（式2）</p>"
   ]
  },
  {
   "cell_type": "code",
   "execution_count": 39,
   "metadata": {
    "collapsed": false
   },
   "outputs": [
    {
     "data": {
      "image/png": "[encoded data removed]",
      "text/latex": [
       "$$\\frac{N \\theta}{n}$$"
      ],
      "text/plain": [
       "N⋅θ\n",
       "───\n",
       " n "
      ]
     },
     "execution_count": 39,
     "metadata": {},
     "output_type": "execute_result"
    }
   ],
   "source": [
    "formula2 = (N * (theta/n)) \n",
    "formula2"
   ]
  },
  {
   "cell_type": "markdown",
   "metadata": {},
   "source": [
    "<h3>例題</h3>"
   ]
  },
  {
   "cell_type": "markdown",
   "metadata": {},
   "source": [
    "<ul>\n",
    "<li>つぼの中に赤玉7個、白玉3個</li>\n",
    "<li>3回試行し、二回赤玉が出る確率。白玉は一回。</li>\n",
    "</ul>"
   ]
  },
  {
   "cell_type": "code",
   "execution_count": 43,
   "metadata": {
    "collapsed": false
   },
   "outputs": [
    {
     "data": {
      "image/png": "[encoded data removed]",
      "text/latex": [
       "$$\\frac{441}{1000}$$"
      ],
      "text/plain": [
       "441 \n",
       "────\n",
       "1000"
      ]
     },
     "execution_count": 43,
     "metadata": {},
     "output_type": "execute_result"
    }
   ],
   "source": [
    "formula1.subs([(theta,7), (n,10), (N,3), (r,2)])"
   ]
  },
  {
   "cell_type": "code",
   "execution_count": 44,
   "metadata": {
    "collapsed": false
   },
   "outputs": [
    {
     "data": {
      "image/png": "[encoded data removed]",
      "text/latex": [
       "$$\\frac{21}{10}$$"
      ],
      "text/plain": [
       "21\n",
       "──\n",
       "10"
      ]
     },
     "execution_count": 44,
     "metadata": {},
     "output_type": "execute_result"
    }
   ],
   "source": [
    "formula2.subs([(N,3), (theta,7), (n,10)])"
   ]
  },
  {
   "cell_type": "markdown",
   "metadata": {},
   "source": [
    "<p>つまり、この場合赤玉2回白玉1回が出る確率は0.441、44%。</p>\n",
    "<p>また平均値は2.1。つまり、10個中7個赤玉が入っていて3回取り出すような場合、赤玉が取り出される平均回数は2.1回である。</p>"
   ]
  },
  {
   "cell_type": "markdown",
   "metadata": {},
   "source": [
    "<h3>確率分布表</h3>"
   ]
  },
  {
   "cell_type": "markdown",
   "metadata": {},
   "source": [
    "<p>この場合の確率分布表を書きたい。今後ともパパっと書けるようにしたい。</p>"
   ]
  },
  {
   "cell_type": "markdown",
   "metadata": {},
   "source": [
    "<h3>ビジネスへの示唆</h3>"
   ]
  },
  {
   "cell_type": "markdown",
   "metadata": {},
   "source": [
    "<p>なにかあるかな。現実においてこういった状況が。</p>\n",
    "<ul>\n",
    "<li>消費者がその製品に何のこだわりもない</li>\n",
    "<li>完全にランダムに選んで購入する</li>\n",
    "    <ul><li>つまり配荷の工夫とか、手に取りやすい位置にあるとかも一切関係ない</li></ul>\n",
    "<li>自社と競合1社のみのマーケット</li>\n",
    "<li>自社と他社の陳列してある商品数が分かる（7,3）</li>\n",
    "</ul>\n",
    "\n",
    "<p>ときに、自社の製品がどれくらいの確率で選ばれるかを導く。</p>\n",
    "<p>現実には起こりにくい仮定があるので、もっと一般化する必要がある。</p>"
   ]
  },
  {
   "cell_type": "markdown",
   "metadata": {},
   "source": [
    "<h2>ポアソン分布（Poisson Distribution）</h2>"
   ]
  },
  {
   "cell_type": "markdown",
   "metadata": {},
   "source": [
    "<h3>概説</h3>"
   ]
  },
  {
   "cell_type": "markdown",
   "metadata": {},
   "source": [
    "<p>ポアソン分布は世の中に発生する多くの事象に当てはまる重要な確率分布。</p>\n",
    "<ul>\n",
    "<li>平均発生率が長期的に見た場合一定である事象において</li>\n",
    "<li>その事象の単位期間あたりの分布を導くもの</li>\n",
    "</ul>\n",
    "<p>ポアソン分布は二項分布に次の3つの操作を加えたもの</p>\n",
    "<ul>\n",
    "<li>白玉の数（n-θ）の数を非常に大きくする。結果としてnが非常に大きくなり、赤玉の出る確率（θ/n）が非常に小さくなる。</li>\n",
    "<li>玉を取り出す回数Nを非常に大きくする。</li>\n",
    "<li>赤玉の出る平均回数の式を、μ＝N・（θ/n）と書き換える。</li>\n",
    "    <ul>\n",
    "    <li>何か変わった？</li>\n",
    "    </ul>\n",
    "</ul>\n",
    "<p>その結果、二項分布の式は下記ポアソン分布の式になる。</p>\n",
    "<p>（式3）：Pr（ある一定期間においてr回赤玉の出現する確率）＝</p>"
   ]
  },
  {
   "cell_type": "code",
   "execution_count": 14,
   "metadata": {
    "collapsed": false
   },
   "outputs": [
    {
     "data": {
      "image/png": "[encoded data removed]",
      "text/latex": [
       "$$\\frac{\\mu^{r}}{r!} e^{- \\mu}$$"
      ],
      "text/plain": [
       " r  -μ\n",
       "μ ⋅ℯ  \n",
       "──────\n",
       "  r!  "
      ]
     },
     "execution_count": 14,
     "metadata": {},
     "output_type": "execute_result"
    }
   ],
   "source": [
    "from sympy import *\n",
    "init_printing()\n",
    "mu = Symbol('mu')\n",
    "r = Symbol('r')\n",
    "formula3 = ((mu**r)/(factorial(r)))*E**(-mu)\n",
    "formula3"
   ]
  },
  {
   "cell_type": "markdown",
   "metadata": {},
   "source": [
    "<h3>例題</h3>"
   ]
  },
  {
   "cell_type": "markdown",
   "metadata": {},
   "source": [
    "<p>軍の馬の例</p>\n",
    "<ul>\n",
    "<li>20年間に馬にけられて死亡した兵士の数を</li>\n",
    "<li>200部隊について調べた</li>\n",
    "<li>20年間で1部隊あたり12人死亡し、</li>\n",
    "<li>つまり、1年間で1部隊あたり0.6人死亡している</li>\n",
    "</ul>\n",
    "<p>1部隊が1個人と考えて、赤玉が死亡、白玉がセーフの箱から毎日？引くような状況</p>\n",
    "<p>例えば、1年間に1部隊で2人亡くなる確率を求めるのは次のようになる。</p>\n",
    "<p>μ＝0.6、ｒ＝2</p>"
   ]
  },
  {
   "cell_type": "code",
   "execution_count": 20,
   "metadata": {
    "collapsed": false
   },
   "outputs": [
    {
     "data": {
      "image/png": "[encoded data removed]",
      "text/latex": [
       "$$0.0987860944969247$$"
      ],
      "text/plain": [
       "0.0987860944969247"
      ]
     },
     "execution_count": 20,
     "metadata": {},
     "output_type": "execute_result"
    }
   ],
   "source": [
    "formula3.subs([(mu,0.6), (r,2)])"
   ]
  },
  {
   "cell_type": "markdown",
   "metadata": {},
   "source": [
    "<p>1年間に1部隊で1人亡くなる確率は、次のようになる。</p>"
   ]
  },
  {
   "cell_type": "code",
   "execution_count": 21,
   "metadata": {
    "collapsed": false
   },
   "outputs": [
    {
     "data": {
      "image/png": "[encoded data removed]",
      "text/latex": [
       "$$0.329286981656416$$"
      ],
      "text/plain": [
       "0.329286981656416"
      ]
     },
     "execution_count": 21,
     "metadata": {},
     "output_type": "execute_result"
    }
   ],
   "source": [
    "formula3.subs([(mu,0.6), (r,1)])"
   ]
  },
  {
   "cell_type": "markdown",
   "metadata": {},
   "source": [
    "<p>2年間に1部隊で2人亡くなる確率は、次のようになる。</p>"
   ]
  },
  {
   "cell_type": "code",
   "execution_count": 19,
   "metadata": {
    "collapsed": false
   },
   "outputs": [
    {
     "data": {
      "image/png": "[encoded data removed]",
      "text/latex": [
       "$$0.216859832576785$$"
      ],
      "text/plain": [
       "0.216859832576785"
      ]
     },
     "execution_count": 19,
     "metadata": {},
     "output_type": "execute_result"
    }
   ],
   "source": [
    "formula3.subs([(mu,1.2), (r,2)])"
   ]
  },
  {
   "cell_type": "markdown",
   "metadata": {},
   "source": [
    "<h3>確率分布表</h3>"
   ]
  },
  {
   "cell_type": "markdown",
   "metadata": {},
   "source": [
    "<h3>現実社会への示唆</h3>"
   ]
  },
  {
   "cell_type": "markdown",
   "metadata": {},
   "source": [
    "<p>ポアソン分布が意味しているところ（対象とできる事象）は、一定期間内において</p>\n",
    "<ul>\n",
    "<li>めったに起こりえないこと</li>\n",
    "<li>試行回数Nが非常に多いこと</li>\n",
    "<li>独立試行であること。つまり前の試行が後の試行に影響を与えないこと。</li>\n",
    "<li>長期的に見ると平均発生率が一定であること</li>\n",
    "</ul>\n",
    "<p>である事象に対して、一定期間の分布を導くもの。</p>\n",
    "\n",
    "<p>よく挙げられる例として、事故の回数がある。例えば1年間で起きる事故の回数は大体一定で、かつ</p>\n",
    "<ul>\n",
    "<li>めったに起こりえないし</li>\n",
    "<li>社会全体での車の運転回数Nが非常に多いし</li>\n",
    "<li>独立試行である、つまり昨日の誰かの運転が明日の誰かの運転に影響を与えない</li>\n",
    "</ul>\n",
    "<p>ので、ポアソン分布の好例、らしい。</p>\n",
    "<p>例えば、東京都で1年間で3回（r）事故が起きる確率は、平均事故回数（μ）が分かれば、ポアソン分布から導かれる。</p>\n",
    "\n",
    "<p>個人個人の購買行動はポアソン分布している。らしいが、これはいまいちピンとこない。</p>\n",
    "<ul>\n",
    "<li>個人が何かを購入する際には、過去の経験も大きく影響する。つまり独立試行とはいえない。また経験以外にも前回大量に買ったから、しばらく買わないとかもありえる。</li>\n",
    "<li>めったに起こりえない？例えば1日を1回の試行と考えると、確かに、例えばシャンプーを買う日はめったにないかもしれない。</li>\n",
    "</ul>\n",
    "\n",
    "<p>消費者全体の購買行動は負の二項分布している。らしい。</p>"
   ]
  },
  {
   "cell_type": "markdown",
   "metadata": {},
   "source": [
    "<h2>負の二項分布（Negative Bi-nominal Distribution）</h2>"
   ]
  },
  {
   "cell_type": "markdown",
   "metadata": {},
   "source": [
    "<h3>概説</h3>"
   ]
  },
  {
   "cell_type": "markdown",
   "metadata": {},
   "source": [
    "<p>個人の消費行動はポアソン分布しているが、消費者全体を見ると負の二項分布している。</p>\n",
    "<p>NBDのポアソン分布や二項分布と違う点は</p>\n",
    "<ul>\n",
    "<li>玉を取り出したときに、出た色と同じ色の玉をd個加えて袋に戻す</li>\n",
    "</ul>\n",
    "<p>という影響を考慮したモデルであるということ。</p>\n",
    "<ul>\n",
    "<li>その選択自身が次の選択に影響を与える</li>\n",
    "<li>成功は成功を呼ぶ（ガンマ分布する）</li>\n",
    "</ul>\n",
    "<p>ということ。</p>"
   ]
  },
  {
   "cell_type": "markdown",
   "metadata": {},
   "source": [
    "<p>（式４）：N回中r回赤玉が出る確率</p>\n",
    "<p>Pr（r回出る（購入される）確率）＝</p>"
   ]
  },
  {
   "cell_type": "code",
   "execution_count": 23,
   "metadata": {
    "collapsed": false
   },
   "outputs": [
    {
     "data": {
      "image/png": "[encoded data removed]",
      "text/latex": [
       "$$\\frac{\\left(\\frac{M}{K + M}\\right)^{r} \\left(1 + \\frac{M}{K}\\right)^{- K} \\Gamma{\\left(K + r \\right)}}{\\Gamma{\\left(K \\right)} \\Gamma{\\left(r + 1 \\right)}}$$"
      ],
      "text/plain": [
       "       r        -K         \n",
       "⎛  M  ⎞  ⎛    M⎞           \n",
       "⎜─────⎟ ⋅⎜1 + ─⎟  ⋅Γ(K + r)\n",
       "⎝K + M⎠  ⎝    K⎠           \n",
       "───────────────────────────\n",
       "       Γ(K)⋅Γ(r + 1)       "
      ]
     },
     "execution_count": 23,
     "metadata": {},
     "output_type": "execute_result"
    }
   ],
   "source": [
    "M = Symbol('M')\n",
    "N = Symbol('N')\n",
    "theta = Symbol('theta')\n",
    "n = Symbol('n')\n",
    "K = Symbol('K')\n",
    "d = Symbol('d')\n",
    "r = Symbol('r')\n",
    "formula4 = ((((1+(M/K))**(-K))*gamma(K+r))/(gamma(r+1)*gamma(K)))*(M/(M+K))**r\n",
    "formula4"
   ]
  },
  {
   "cell_type": "markdown",
   "metadata": {},
   "source": [
    "<p>浸透率の計算は購入回数がゼロ回の人（r=0）を全体（100%）から引くと求まるので、次のようになる。</p>\n",
    "<p>（式５）：浸透率　Penetration rate = </p>"
   ]
  },
  {
   "cell_type": "code",
   "execution_count": 27,
   "metadata": {
    "collapsed": false
   },
   "outputs": [
    {
     "data": {
      "image/png": "[encoded data removed]",
      "text/latex": [
       "$$1 - \\left(1 + \\frac{M}{K}\\right)^{- K}$$"
      ],
      "text/plain": [
       "           -K\n",
       "    ⎛    M⎞  \n",
       "1 - ⎜1 + ─⎟  \n",
       "    ⎝    K⎠  "
      ]
     },
     "execution_count": 27,
     "metadata": {},
     "output_type": "execute_result"
    }
   ],
   "source": [
    "formula5 = 1 - formula4.subs([(r,0)])\n",
    "formula5"
   ]
  },
  {
   "cell_type": "code",
   "execution_count": 24,
   "metadata": {
    "collapsed": true
   },
   "outputs": [],
   "source": [
    "M = N*(theta/n)\n",
    "K = theta/d"
   ]
  },
  {
   "cell_type": "markdown",
   "metadata": {},
   "source": [
    "\n",
    "<h3>例題</h3>"
   ]
  },
  {
   "cell_type": "markdown",
   "metadata": {},
   "source": []
  },
  {
   "cell_type": "markdown",
   "metadata": {},
   "source": [
    "<h3>確率分布表</h3>"
   ]
  },
  {
   "cell_type": "markdown",
   "metadata": {},
   "source": [
    "<h3>現実社会への示唆</h3>"
   ]
  },
  {
   "cell_type": "markdown",
   "metadata": {},
   "source": [
    "<p>MとKが分かれば、全体の消費者のうち一回でも買う人、浸透率が求まる。</p>\n",
    "<p>MとKが分かれば、一定期間のうち、r回買う人が何割いるかが求まる。</p>\n",
    "<p>じゃあMとKをどう求めるか。</p>\n",
    "<p>M：全体の試行回数（N）と、そのうち購買可能な商品の全体数（n）と自社の商品数（theta）が分かれば求まる。</p>\n",
    "<p>K：自社の商品数（theta）と、戻す個数（d）（つまり、1回特定ブランドを買ってファンになる度合い）が分かれば求まる。</p>\n",
    "<p>こう考えると、各要素を全て計測しようとするのは難しそう。計測不能なものもある。例えばdとか。</p>\n",
    "<p>じゃあ、MとKを直接計測するしかない。</p>\n",
    "\n",
    "<p>Mは実際の定量調査から擬似的に求めるようだ。</p>\n",
    "<p>Kは、浸透率を実績から求めてから、浸透率の式からMと合わせて逆算して求める？</p>\n",
    "<p>で、MとKが分かったら何がうれしい？</p>\n",
    "<p>実際に欲しいのは需要予測とそれの要因及び寄与率。それらが分かることによって、何にどれくらい力をかけていけばいいか戦術が立てられる。</p>"
   ]
  },
  {
   "cell_type": "markdown",
   "metadata": {},
   "source": [
    "<h2>ガンマ関数（Gamma function）</h2>"
   ]
  },
  {
   "cell_type": "markdown",
   "metadata": {},
   "source": [
    "<h3>概要</h3>"
   ]
  },
  {
   "cell_type": "markdown",
   "metadata": {},
   "source": [
    "<p>階乗 n! の n を正の整数でない部分にも定義できるように一般化した概念としてガンマ関数というものがある。</p>\n",
    "<p>任意の正の整数 n に対して， Γ(n+1)=n!、Γ(n)=(n-1)!、Γ(1)=1などが成り立つ。らしい。</p>\n",
    "<p>社会的には、ある選択自身が次の選択に正の影響を与えるという場合に適用できる。らしい。成功は成功を呼ぶということ。数学的にはガンマ分布すること。</p>\n",
    "<p>イメージ的にはExponentialに近いが、どう違う？分布の右上がり方が違うとか？</p>"
   ]
  },
  {
   "cell_type": "markdown",
   "metadata": {},
   "source": [
    "<h3>Pythonでの計算例</h3>"
   ]
  },
  {
   "cell_type": "code",
   "execution_count": 7,
   "metadata": {
    "collapsed": false
   },
   "outputs": [
    {
     "data": {
      "image/png": "[encoded data removed]",
      "text/latex": [
       "$$1$$"
      ],
      "text/plain": [
       "1"
      ]
     },
     "execution_count": 7,
     "metadata": {},
     "output_type": "execute_result"
    }
   ],
   "source": [
    "gamma(1)"
   ]
  },
  {
   "cell_type": "code",
   "execution_count": 10,
   "metadata": {
    "collapsed": false
   },
   "outputs": [
    {
     "data": {
      "image/png": "[encoded data removed]",
      "text/latex": [
       "$$362880$$"
      ],
      "text/plain": [
       "362880"
      ]
     },
     "execution_count": 10,
     "metadata": {},
     "output_type": "execute_result"
    }
   ],
   "source": [
    "gamma(10)"
   ]
  },
  {
   "cell_type": "code",
   "execution_count": 8,
   "metadata": {
    "collapsed": false
   },
   "outputs": [
    {
     "data": {
      "image/png": "[encoded data removed]",
      "text/latex": [
       "$$608281864034267560872252163321295376887552831379210240000000000$$"
      ],
      "text/plain": [
       "608281864034267560872252163321295376887552831379210240000000000"
      ]
     },
     "execution_count": 8,
     "metadata": {},
     "output_type": "execute_result"
    }
   ],
   "source": [
    "gamma(50)"
   ]
  },
  {
   "cell_type": "markdown",
   "metadata": {},
   "source": [
    "<h2>デリシュレーNBDモデル</h2>"
   ]
  },
  {
   "cell_type": "markdown",
   "metadata": {},
   "source": [
    "<p>その他みたい分布</p>\n",
    "<ul>\n",
    "<li>多項分布</li>\n",
    "<li>ベルヌーイ分布</li>\n",
    "<li>その他？</li>\n",
    "</ul>"
   ]
  },
  {
   "cell_type": "markdown",
   "metadata": {},
   "source": [
    "<h1>市場構造の理論</h1>"
   ]
  },
  {
   "cell_type": "markdown",
   "metadata": {},
   "source": [
    "<h2>プレファレンス</h2>"
   ]
  },
  {
   "cell_type": "markdown",
   "metadata": {},
   "source": [
    "<p>主に、ブランドエクイティ、価格、製品パフォーマンスの3つによって決定される。</p>\n",
    "<p>異なるカテゴリであっても、消費者の購買行動はプレファレンスに基づいて決定されるという点では同じ。</p>\n",
    "<p>1つ1つのブランドに対する消費者の購買行動も、プレファレンスに基づいて決定されている。</p>\n",
    "<p>NBDで求められるPrは、消費者のあるブランドへの選択する確率であり、これはプレファレンス（M）に基づいて決まる。</p>\n",
    "<p>特定のカテゴリが、全消費者の中のどれくらいの消費者から購入してもらえるかを浸透率といい、これもプレファレンスに基づいて決まる。</p>\n",
    "<p>プレファレンスの向上にこそ経営資源を使うべき。</p>\n",
    "<ul>\n",
    "<li>具体的に何をしたらプレファレンスの向上につながるのか？</li>\n",
    "</ul>"
   ]
  },
  {
   "cell_type": "markdown",
   "metadata": {},
   "source": [
    "<h2>Evoked set</h2>"
   ]
  },
  {
   "cell_type": "markdown",
   "metadata": {},
   "source": [
    "<p>消費者の頭の中にある、買ってもよいと思ういくつかのブランドの候補</p>"
   ]
  },
  {
   "cell_type": "markdown",
   "metadata": {},
   "source": [
    "<h1>需要予測にチャレンジ</h1>"
   ]
  },
  {
   "cell_type": "markdown",
   "metadata": {},
   "source": [
    "<h2>Key points</h2>"
   ]
  },
  {
   "cell_type": "markdown",
   "metadata": {},
   "source": [
    "<ul>\n",
    "<li>需要予測は大きくはずさないことが大事。</li>\n",
    "<li>具体的には70億円～130億円のように幅をもたせて大きくはずさないことが大事。</li>\n",
    "<li>そして、上振れ下振れした時に備えておくことが大事。</li>\n",
    "<li>大きく外れていなければ、認知率、配荷率、店頭プロモーションの強化や調整により、途中から目標を達成することは十分可能。</li>\n",
    "    <ul>\n",
    "        <li>認知率、配荷率をそれぞれ10%ずつ改善できれば、1.1x1.1＝1.21で約20%改善できる。</li>\n",
    "    </ul>\n",
    "<li>予測値を現実の値より少し少なめに設定できていればベスト。</li>\n",
    "\n",
    "</ul>\n"
   ]
  },
  {
   "cell_type": "markdown",
   "metadata": {},
   "source": [
    "<h2>Case study</h2>"
   ]
  },
  {
   "cell_type": "markdown",
   "metadata": {},
   "source": [
    "<h3>需要予測例</h3>"
   ]
  },
  {
   "cell_type": "markdown",
   "metadata": {},
   "source": [
    "<h2>配荷率（量・質）</h2>"
   ]
  },
  {
   "cell_type": "markdown",
   "metadata": {},
   "source": [
    "<p>配荷率と売上にはどのような関係があるか？</p>\n",
    "<p>基本的に正の相関だとは思うけど、どの程度？</p>\n",
    "<p>自分たちのビジネスにおいてどのように求めればいい？</p>"
   ]
  },
  {
   "cell_type": "markdown",
   "metadata": {},
   "source": [
    "<h2>認知率（量・質）</h2>"
   ]
  },
  {
   "cell_type": "markdown",
   "metadata": {},
   "source": [
    "<h2>プレファレンス</h2>"
   ]
  },
  {
   "cell_type": "markdown",
   "metadata": {},
   "source": [
    "<h1>Plantect戦略オプションの考察</h1>"
   ]
  },
  {
   "cell_type": "markdown",
   "metadata": {},
   "source": [
    "<h2>概説</h2>"
   ]
  },
  {
   "cell_type": "markdown",
   "metadata": {},
   "source": [
    "<p>売上を伸ばすことを目標とすると、焦点は３つしかない。</p>\n",
    "<ol>\n",
    "<li>自社ブランドへのプレファレンスを高める。</li>\n",
    "<li>認知を高める。</li>\n",
    "<li>配荷を高める。</li>\n",
    "</ol>\n",
    "<p>以下でPlantectに対して、3つの観点から何ができるかを考察し、それぞれのインパクト・確実性・費用も勘案し、最終的に目標に対してどういった戦略・戦術が有効化を導く。</p>"
   ]
  },
  {
   "cell_type": "markdown",
   "metadata": {},
   "source": [
    "<h2>目標値の設定</h2>"
   ]
  },
  {
   "cell_type": "markdown",
   "metadata": {},
   "source": [
    "![](Flow chart 1.png)"
   ]
  },
  {
   "cell_type": "markdown",
   "metadata": {},
   "source": [
    "<h2>認知を伸ばす</h2>"
   ]
  },
  {
   "cell_type": "markdown",
   "metadata": {},
   "source": [
    "<h3>概説</h3>"
   ]
  },
  {
   "cell_type": "markdown",
   "metadata": {},
   "source": [
    "<ul>\n",
    "<li>Aided awareness：Plantectを知っていますか？→自社ブランドの認知の最大面積を測定するのに適している。大きく出がち。但し質問が非常にシンプルなので、いつどこで聞いても均質な結果をとりやすいということから、需要予測には向いている。</li>\n",
    "<li>Unaided awareness：センサーを使ったスマート農業ソリューションとして思い浮かぶブランドは何ですか？→自社ブランドが消費者のEvoked setに入っているかどうかが分かる。マーケターとして重視している認知の指標。特に真っ先に名前が挙がるかどうか、つまり「第一想起率」がどれくらいかを定期的に増減をモニターして競合と比較する。</li>\n",
    "</ul>"
   ]
  },
  {
   "cell_type": "markdown",
   "metadata": {},
   "source": [
    "<h3>現状の把握</h3>"
   ]
  },
  {
   "cell_type": "markdown",
   "metadata": {},
   "source": [
    "<h3>認知の伸びと売上の伸びの関係</h3>"
   ]
  },
  {
   "cell_type": "markdown",
   "metadata": {},
   "source": [
    "<ul>\n",
    "<li>各施策に対する認知率向上への寄与の大きさ、ROI、何か先行研究ある？</li>\n",
    "<li>Smart agビジネスでの実際のデータ？過去の競合のデータから？</li>\n",
    "<li>「確率思考の戦略論」には「認知を50%->60%に向上できれば、ほぼ確実に売上は20%伸ばすことができる。」と書いてある。まじで？</li>\n",
    "</ul>"
   ]
  },
  {
   "cell_type": "markdown",
   "metadata": {},
   "source": [
    "<h3>伸ばし方考察</h3>"
   ]
  },
  {
   "cell_type": "markdown",
   "metadata": {},
   "source": [
    "<ul>\n",
    "<li>量だけでなく質も伸ばすことができる。</li>\n",
    "    <ul>\n",
    "    <li>質を伸ばすとは、例えば特定顧客層の中での第一想起率を上げること。富裕層ビジネスでは、マス向けに認知率を高めて（認知の量の拡大）も結局買えないし、最悪の場合プレミア感といったようなブランドイメージを毀損することもありえる。</li>\n",
    "    </ul>\n",
    "<li>ROIから優先順位の決定。</li>\n",
    "</ul>"
   ]
  },
  {
   "cell_type": "markdown",
   "metadata": {},
   "source": [
    "<h3>まとめ</h3>"
   ]
  },
  {
   "cell_type": "markdown",
   "metadata": {},
   "source": [
    "<ul>\n",
    "<li>認知率の目標は何%か？</li>\n",
    "<li>認知率の質の目標は？</li>\n",
    "<li>目標達成のための施策は？</li>\n",
    "<li>分かりやすいように図解</li>\n",
    "</ul>"
   ]
  },
  {
   "cell_type": "markdown",
   "metadata": {},
   "source": [
    "<h2>配荷を伸ばす</h2>"
   ]
  },
  {
   "cell_type": "markdown",
   "metadata": {},
   "source": [
    "<h3>概説</h3>"
   ]
  },
  {
   "cell_type": "markdown",
   "metadata": {},
   "source": [
    "配荷率とは、\n",
    "<ul>\n",
    "<li>市場にいる何％の消費者が、その商品を買おうと思えば物理的に買える状態にあるか、という指標。</li>\n",
    "<li>店舗数でカウントする「ストアカウント配荷率」</li>\n",
    "<li>店舗の規模の違いを考慮する「ビジネスウエイト配荷率」</li>\n",
    "    <ul>\n",
    "    <li>「ストアカウント配荷率」ｘ「店舗の売上規模 or そのカテゴリの売上規模」によるウエイト</li>\n",
    "    </ul>\n",
    "</ul>"
   ]
  },
  {
   "cell_type": "markdown",
   "metadata": {},
   "source": [
    "<p>配荷率の質を高める主要因の１つとして「取引条件」があげられる。マージンやインセンティブ、独占権など。</p>\n",
    "<p>マージン一律8%というのがモチベーションをあげないなら、相手の言うことにあわせて「物売りモデル」として「一年目：20%、2年目以降2%」とすれば、まず売ろうとするモチベーションも上がるか？</p>\n",
    "<p>Justificationとしては、やはり最初に売るのに労力がかかるのだから、そこでしっかり活動費を捻出してもらって、それ以降はむしろあまり手がかからないので、2%のお小遣い程度＋クロスセルの機会の提供となる。</p>\n",
    "    <ul>\n",
    "    <li>例：$99k\\times1,000set=99mJPY$ as turnover. $99m\\times20\\%=19.8mJPY$ as activity cost</li>\n",
    "    </ul>"
   ]
  },
  {
   "cell_type": "markdown",
   "metadata": {},
   "source": [
    "<h3>現状の把握</h3>"
   ]
  },
  {
   "cell_type": "markdown",
   "metadata": {},
   "source": [
    "<h3>配荷の伸びと売上の伸びの関係</h3>"
   ]
  },
  {
   "cell_type": "markdown",
   "metadata": {},
   "source": [
    "<ul>\n",
    "<li>各施策に対する配荷率向上への寄与の大きさ、ROI、何か先行研究ある？</li>\n",
    "<li>Smart agビジネスでの実際のデータ？過去の競合のデータから？</li>\n",
    "<li>「確率思考の戦略論」には「配荷を50%->60%に向上できれば、ほぼ確実に売上は20%伸ばすことができる。」と書いてある。まじで？</li>\n",
    "</ul>"
   ]
  },
  {
   "cell_type": "markdown",
   "metadata": {},
   "source": [
    "<h3>伸ばし方考察</h3>"
   ]
  },
  {
   "cell_type": "markdown",
   "metadata": {},
   "source": [
    "<p>自社ブランドが各販売店にとって「確たる」役割を果たせることが大事。</p>\n",
    "<ul>\n",
    "<li>まずは、配荷の量を伸ばすことが最優先。</li>\n",
    "<li>配荷の質を顧客のプレファレンスに合わせて改善する。</li>\n",
    "    <ul>\n",
    "    <li>顧客へのお勧めの仕方が、顧客が求めていることとあっているか→販売店向けTalk script</li>\n",
    "        <ul>\n",
    "        <li>販売店が顧客への接触時間が限られているとすると、いかに効率的に顧客のプレファレンスに合わせたTalkにするかが大事。</li>\n",
    "        <li>要するに、9人しか出れない野球で30人のメンバーがいるとき、打率の高い選手から9人選ぶ、その他は試合に出さない、ということ。</li>\n",
    "        </ul>\n",
    "    <li>競合に比べて優先的に扱ってくれているか？→優先的に扱ってもらうためにはどうするか</li>\n",
    "    <li>最終価格は理想的な価格設定にしてもらえているか？</li>\n",
    "    </ul>\n",
    "</ul>"
   ]
  },
  {
   "cell_type": "markdown",
   "metadata": {},
   "source": [
    "<h3>まとめ</h3>"
   ]
  },
  {
   "cell_type": "markdown",
   "metadata": {},
   "source": [
    "<ul>\n",
    "<li>配荷率の目標は何%か？</li>\n",
    "<li>配荷率の質の目標は？</li>\n",
    "<li>目標達成のための施策は？</li>\n",
    "<li>分かりやすいように図解</li>\n",
    "</ul>"
   ]
  },
  {
   "cell_type": "markdown",
   "metadata": {},
   "source": [
    "<h2>プレファレンスを伸ばす</h2>"
   ]
  },
  {
   "cell_type": "markdown",
   "metadata": {},
   "source": [
    "<h3>概説</h3>"
   ]
  },
  {
   "cell_type": "markdown",
   "metadata": {},
   "source": [
    "「消費者のプレファレンス」とは、「自社ブランドが選ばれる確率」のこと。<br>\n",
    "下記、負の二項分布に従う。つまり自社ブランドが選ばれる確率はMとKに従う。<br>\n",
    "<ul>\n",
    "<li>Mは選ばれる確率そのもの。</li>\n",
    "<li>Kはその確率密度分布の（バラつきの）形を決めているパラメータ。横軸に「消費者が自社ブランドを選んだ延べ回数」？「年齢や性別などのその他属性」にはならない？</li>\n",
    "    <ul>\n",
    "    <li>KはMによって結果的に決まる。つまりKはコントロールすべき対象ではない。</li>\n",
    "    <li>Plantectビジネスの場合はサブスクリプションなので、一定期間に何回買うかという概念は存在しない。もし、長い期間を考えるのであれば、一年ごとに更新されることを1回とカウントするやり方もあるが。</li>\n",
    "    <li>そうすると、確率密度分布はどうなるか？0回と1回だけで、合計が100%になるようなイメージか。</li>\n",
    "    </ul>\n",
    "</ul>"
   ]
  },
  {
   "cell_type": "markdown",
   "metadata": {},
   "source": [
    "$Pr$(r回選ばれる確率)$=\\frac{(1+\\frac{M}{K})^{-K}\\times\\Gamma(K+r)}{\\Gamma(r+1)\\times\\Gamma(K)}\\times(\\frac{M}{M+K})^{r}$"
   ]
  },
  {
   "cell_type": "markdown",
   "metadata": {},
   "source": [
    "つまり、Mが自社ブランドが選ばれる確率そのもので、Mをどう増やすかがつまりプレファレンスをどう増やすかに等しい。"
   ]
  },
  {
   "cell_type": "markdown",
   "metadata": {},
   "source": [
    "Mの増やし方には2通りある。\n",
    "<ul>\n",
    "<li>水平方向への拡大：</li>\n",
    "<li>垂直方向への拡大：既存のファンに更に好きになってもらって<b>購入回数を増やしてもらう</b>やりかた。くさやを更にくさくさせて、特定の好きな人にはもっと買ってもらうが、もともと嫌いなひとには相変わらず見向きされない。</li>\n",
    "</ul>"
   ]
  },
  {
   "cell_type": "markdown",
   "metadata": {},
   "source": [
    "消費者を区切ってターゲティングすることは、Mを増やすためであって、決して自社ブランドのMを狭めるためではない。"
   ]
  },
  {
   "cell_type": "markdown",
   "metadata": {},
   "source": [
    "![](Mを増やす方向性.JPG)"
   ]
  },
  {
   "cell_type": "markdown",
   "metadata": {},
   "source": [
    "<b><u>差別化とは</u></b>\n",
    "<ul>\n",
    "<li>GrAが富裕層、GrBが大衆層とする。</li>\n",
    "<li>ベンツはGrA。GrBにも手を伸ばそうとしてGrAからの支持を失っては駄目。</li>\n",
    "<li>しかし売上拡大したければ、GrBに上手く手を出すしかない。富裕層は取り尽しているとして。（Aクラスの販売。）</li>\n",
    "<li>トヨタはGrB。GrAに拡大しようとしてレクサスの販売。</li>\n",
    "</ul>\n",
    "\n",
    "<ul>\n",
    "<li>GrAが夢の国層、GrBがスリル層、GrCがファミリー層、とする。</li>\n",
    "<li>TDRはGrAをがっちり捕まえている。</li>\n",
    "<li>だが、GrBは捕まえ切れてない。GrCはどうだろうか。</li>\n",
    "<li>これをGroupの見方を年齢で見てしまうと、TDRは老若男女問わず集めているように見えるので、「映画だけのテーマパーク」というようなずれたコンセプトになって、結果若い女性層のみという偏ったMの構成になっている。</li>\n",
    "<li>ファミリー層向けのエリアを作ることはTDRとの差別化がなくなる？</li>\n",
    "    <ul>\n",
    "    <li>かもしれないし、じゃないかもしれない。</li>\n",
    "    <li>もっと大事な質問はファミリー層を取る事によって、既存の顧客を失うか？これはNo。つまりMは純増する。ならばやらない理由はない。</li>\n",
    "    </ul>\n",
    "<li>TDRは若い女性層は取っていないか？そんなことはない。むしろしっかり取っている。</li>\n",
    "<li>Targetingはあくまで自社のMを増やすために、それを効率的にやるためにやること。</li>\n",
    "</ul>"
   ]
  },
  {
   "cell_type": "markdown",
   "metadata": {},
   "source": [
    "<h3>現状の把握</h3>"
   ]
  },
  {
   "cell_type": "markdown",
   "metadata": {},
   "source": [
    "<h3>プレファレンスの伸びと売上の伸びの関係</h3>"
   ]
  },
  {
   "cell_type": "markdown",
   "metadata": {},
   "source": [
    "<h3>伸ばし方考察</h3>"
   ]
  },
  {
   "cell_type": "markdown",
   "metadata": {},
   "source": [
    "<h3>まとめ</h3>"
   ]
  },
  {
   "cell_type": "markdown",
   "metadata": {},
   "source": [
    "<h2>戦略オプション</h2>"
   ]
  },
  {
   "cell_type": "markdown",
   "metadata": {},
   "source": [
    "<ul>\n",
    "<li>3つくらいにまとめよう。各オプションにそれを表すような名前をつける。</li>\n",
    "<li>段階別に目標を達成していくように、段階別の戦略を。</li>\n",
    "</ul>"
   ]
  },
  {
   "cell_type": "markdown",
   "metadata": {},
   "source": [
    "<h1>Sympy introduction</h1>"
   ]
  },
  {
   "cell_type": "markdown",
   "metadata": {},
   "source": [
    "<h2>初期設定</h2>"
   ]
  },
  {
   "cell_type": "markdown",
   "metadata": {},
   "source": [
    "<p>このノートを動かす前に、まず次のFunction達を走らせておくとよい。</p>"
   ]
  },
  {
   "cell_type": "code",
   "execution_count": 1,
   "metadata": {
    "collapsed": true
   },
   "outputs": [],
   "source": [
    "from sympy import *\n",
    "init_printing()"
   ]
  },
  {
   "cell_type": "markdown",
   "metadata": {},
   "source": [
    "<h2>Basic operation</h2>"
   ]
  },
  {
   "cell_type": "markdown",
   "metadata": {},
   "source": [
    "<h3>数式表記、代入、数式展開</h3>"
   ]
  },
  {
   "cell_type": "markdown",
   "metadata": {},
   "source": [
    "<p>次のCodeでまず、</p>\n",
    "<ul>\n",
    "    <li>数式表記で式を返す</li>\n",
    "    <li>.subsで記号に数字を代入して計算する</li>\n",
    "    <li>数式を展開する</li>\n",
    "</ul>\n",
    "<p>ができるようになる。</p>"
   ]
  },
  {
   "cell_type": "code",
   "execution_count": 2,
   "metadata": {
    "collapsed": false
   },
   "outputs": [
    {
     "data": {
      "image/png": "[encoded data removed]",
      "text/latex": [
       "$$\\frac{\\theta}{n}$$"
      ],
      "text/plain": [
       "θ\n",
       "─\n",
       "n"
      ]
     },
     "execution_count": 2,
     "metadata": {},
     "output_type": "execute_result"
    }
   ],
   "source": [
    "from sympy import *\n",
    "\n",
    "# これで数式を印刷できるようになる。\n",
    "init_printing() \n",
    "\n",
    "# 変数を定義\n",
    "theta = Symbol('theta')\n",
    "n = Symbol('n')\n",
    "\n",
    "# 数式を指定し、返す\n",
    "expr = theta/n\n",
    "expr"
   ]
  },
  {
   "cell_type": "code",
   "execution_count": 3,
   "metadata": {
    "collapsed": false
   },
   "outputs": [
    {
     "data": {
      "image/png": "[encoded data removed]",
      "text/latex": [
       "$$\\frac{1}{10}$$"
      ],
      "text/plain": [
       "1/10"
      ]
     },
     "execution_count": 3,
     "metadata": {},
     "output_type": "execute_result"
    }
   ],
   "source": [
    "# 数式に数字を代入して計算。シータに10を、nに100を代入している。\n",
    "expr.subs([(theta,10), (n,100)])"
   ]
  },
  {
   "cell_type": "code",
   "execution_count": 4,
   "metadata": {
    "collapsed": false
   },
   "outputs": [
    {
     "data": {
      "image/png": "[encoded data removed]",
      "text/latex": [
       "$$x^{5} + 5 x^{4} y + 10 x^{3} y^{2} + 10 x^{2} y^{3} + 5 x y^{4} + y^{5}$$"
      ],
      "text/plain": [
       " 5      4         3  2       2  3        4    5\n",
       "x  + 5⋅x ⋅y + 10⋅x ⋅y  + 10⋅x ⋅y  + 5⋅x⋅y  + y "
      ]
     },
     "execution_count": 4,
     "metadata": {},
     "output_type": "execute_result"
    }
   ],
   "source": [
    "x = Symbol('x')\n",
    "y = Symbol('y')\n",
    "expr = (x + y)**5\n",
    "\n",
    "# expandで式を展開。\n",
    "expand(expr)"
   ]
  },
  {
   "cell_type": "markdown",
   "metadata": {},
   "source": [
    "<h3>階乗の表記、計算</h3>"
   ]
  },
  {
   "cell_type": "code",
   "execution_count": 6,
   "metadata": {
    "collapsed": false
   },
   "outputs": [
    {
     "data": {
      "image/png": "[encoded data removed]",
      "text/latex": [
       "$$24$$"
      ],
      "text/plain": [
       "24"
      ]
     },
     "execution_count": 6,
     "metadata": {},
     "output_type": "execute_result"
    }
   ],
   "source": [
    "factorial(4)"
   ]
  },
  {
   "cell_type": "code",
   "execution_count": 14,
   "metadata": {
    "collapsed": false
   },
   "outputs": [
    {
     "data": {
      "image/png": "[encoded data removed]",
      "text/latex": [
       "$$24$$"
      ],
      "text/plain": [
       "24"
      ]
     },
     "execution_count": 14,
     "metadata": {},
     "output_type": "execute_result"
    }
   ],
   "source": [
    "expr3 = factorial(4)\n",
    "expr3"
   ]
  },
  {
   "cell_type": "code",
   "execution_count": 9,
   "metadata": {
    "collapsed": false
   },
   "outputs": [
    {
     "data": {
      "image/png": "[encoded data removed]",
      "text/latex": [
       "$$y + x!$$"
      ],
      "text/plain": [
       "y + x!"
      ]
     },
     "execution_count": 9,
     "metadata": {},
     "output_type": "execute_result"
    }
   ],
   "source": [
    "expr2 = (factorial(x) + y)\n",
    "expr2"
   ]
  },
  {
   "cell_type": "code",
   "execution_count": 10,
   "metadata": {
    "collapsed": false
   },
   "outputs": [
    {
     "data": {
      "image/png": "[encoded data removed]",
      "text/latex": [
       "$$25$$"
      ],
      "text/plain": [
       "25"
      ]
     },
     "execution_count": 10,
     "metadata": {},
     "output_type": "execute_result"
    }
   ],
   "source": [
    "expr2.subs([(x,4),(y,1)])"
   ]
  },
  {
   "cell_type": "markdown",
   "metadata": {},
   "source": [
    "<h3>ネイピア数－Napier's constant</h3>"
   ]
  },
  {
   "cell_type": "markdown",
   "metadata": {},
   "source": [
    "<p>The e constant.\n",
    "\n",
    "The transcendental number e=2.718281828… is the base of the natural logarithm and of the exponential function, e=exp⁡(1). Sometimes called Euler’s number or Napier’s constant.\n",
    "\n",
    "Exp1 is a singleton, and can be accessed by S.Exp1, or can be imported as E.</p>"
   ]
  },
  {
   "cell_type": "code",
   "execution_count": 9,
   "metadata": {
    "collapsed": false
   },
   "outputs": [
    {
     "data": {
      "image/png": "[encoded data removed]",
      "text/latex": [
       "$$1$$"
      ],
      "text/plain": [
       "1"
      ]
     },
     "execution_count": 9,
     "metadata": {},
     "output_type": "execute_result"
    }
   ],
   "source": [
    "from sympy import *\n",
    "init_printing()\n",
    "log(E)"
   ]
  },
  {
   "cell_type": "code",
   "execution_count": 10,
   "metadata": {
    "collapsed": false
   },
   "outputs": [
    {
     "data": {
      "image/png": "[encoded data removed]",
      "text/latex": [
       "$$2 e$$"
      ],
      "text/plain": [
       "2⋅ℯ"
      ]
     },
     "execution_count": 10,
     "metadata": {},
     "output_type": "execute_result"
    }
   ],
   "source": [
    "2*S.Exp1"
   ]
  },
  {
   "cell_type": "markdown",
   "metadata": {},
   "source": [
    "<h2>References</h2>"
   ]
  },
  {
   "cell_type": "markdown",
   "metadata": {},
   "source": [
    "<li>\n",
    "<a href=\"http://docs.sympy.org/latest/index.html\">Sympy documentation web link</a>\n",
    "</li>\n",
    "<li>\n",
    "<a href=\"http://myenigma.hatenablog.com/entry/2015/11/21/222755\">Pythonの数式処理ライブラリSymPyをWolfram Alpha(Mathematica, Maxima)の代わりに使う方法</a>\n",
    "</li>\n",
    "<li>\n",
    "<a href=\"https://rat.cis.k.hosei.ac.jp/article/rat/latex.html\">LaTeXの書き方</a>\n",
    "</li>"
   ]
  }
 ],
 "metadata": {
  "anaconda-cloud": {},
  "kernelspec": {
   "display_name": "Python [Root]",
   "language": "python",
   "name": "Python [Root]"
  },
  "language_info": {
   "codemirror_mode": {
    "name": "ipython",
    "version": 3
   },
   "file_extension": ".py",
   "mimetype": "text/x-python",
   "name": "python",
   "nbconvert_exporter": "python",
   "pygments_lexer": "ipython3",
   "version": "3.5.2"
  },
  "toc": {
   "colors": {
    "hover_highlight": "#DAA520",
    "navigate_num": "#000000",
    "navigate_text": "#333333",
    "running_highlight": "#FF0000",
    "selected_highlight": "#FFD700",
    "sidebar_border": "#EEEEEE",
    "wrapper_background": "#FFFFFF"
   },
   "moveMenuLeft": true,
   "nav_menu": {
    "height": "66px",
    "width": "252px"
   },
   "navigate_menu": true,
   "number_sections": true,
   "sideBar": true,
   "threshold": 4,
   "toc_cell": false,
   "toc_section_display": "block",
   "toc_window_display": true,
   "widenNotebook": false
  }
 },
 "nbformat": 4,
 "nbformat_minor": 0
}
