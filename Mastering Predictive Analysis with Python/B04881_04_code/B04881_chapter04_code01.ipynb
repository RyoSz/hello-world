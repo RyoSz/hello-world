{
 "cells": [
  {
   "cell_type": "code",
   "execution_count": 2,
   "metadata": {
    "collapsed": false
   },
   "outputs": [],
   "source": [
    "## Import dependencies\n",
    "\n",
    "%matplotlib inline\n",
    "import pandas as pd\n",
    "import matplotlib.pyplot as plt\n",
    "plt.style.use('ggplot')"
   ]
  },
  {
   "cell_type": "code",
   "execution_count": 415,
   "metadata": {
    "collapsed": false
   },
   "outputs": [],
   "source": [
    "## news data\n",
    "\n",
    "news = pd.read_csv('OnlineNewsPopularity.csv',sep=',')"
   ]
  },
  {
   "cell_type": "code",
   "execution_count": 418,
   "metadata": {
    "collapsed": true
   },
   "outputs": [
    {
     "data": {
      "text/plain": [
       "Index([u'url', u' timedelta', u' n_tokens_title', u' n_tokens_content',\n",
       "       u' n_unique_tokens', u' n_non_stop_words', u' n_non_stop_unique_tokens',\n",
       "       u' num_hrefs', u' num_self_hrefs', u' num_imgs', u' num_videos',\n",
       "       u' average_token_length', u' num_keywords',\n",
       "       u' data_channel_is_lifestyle', u' data_channel_is_entertainment',\n",
       "       u' data_channel_is_bus', u' data_channel_is_socmed',\n",
       "       u' data_channel_is_tech', u' data_channel_is_world', u' kw_min_min',\n",
       "       u' kw_max_min', u' kw_avg_min', u' kw_min_max', u' kw_max_max',\n",
       "       u' kw_avg_max', u' kw_min_avg', u' kw_max_avg', u' kw_avg_avg',\n",
       "       u' self_reference_min_shares', u' self_reference_max_shares',\n",
       "       u' self_reference_avg_sharess', u' weekday_is_monday',\n",
       "       u' weekday_is_tuesday', u' weekday_is_wednesday',\n",
       "       u' weekday_is_thursday', u' weekday_is_friday', u' weekday_is_saturday',\n",
       "       u' weekday_is_sunday', u' is_weekend', u' LDA_00', u' LDA_01',\n",
       "       u' LDA_02', u' LDA_03', u' LDA_04', u' global_subjectivity',\n",
       "       u' global_sentiment_polarity', u' global_rate_positive_words',\n",
       "       u' global_rate_negative_words', u' rate_positive_words',\n",
       "       u' rate_negative_words', u' avg_positive_polarity',\n",
       "       u' min_positive_polarity', u' max_positive_polarity',\n",
       "       u' avg_negative_polarity', u' min_negative_polarity',\n",
       "       u' max_negative_polarity', u' title_subjectivity',\n",
       "       u' title_sentiment_polarity', u' abs_title_subjectivity',\n",
       "       u' abs_title_sentiment_polarity', u' shares'],\n",
       "      dtype='object')"
      ]
     },
     "execution_count": 418,
     "metadata": {},
     "output_type": "execute_result"
    }
   ],
   "source": [
    "news.columns"
   ]
  },
  {
   "cell_type": "code",
   "execution_count": 421,
   "metadata": {
    "collapsed": false
   },
   "outputs": [],
   "source": [
    "## remove whitespace in column names\n",
    "\n",
    "news.columns = [ x.strip() for x in news.columns]"
   ]
  },
  {
   "cell_type": "code",
   "execution_count": 422,
   "metadata": {
    "collapsed": false
   },
   "outputs": [
    {
     "data": {
      "text/html": [
       "<div>\n",
       "<table border=\"1\" class=\"dataframe\">\n",
       "  <thead>\n",
       "    <tr style=\"text-align: right;\">\n",
       "      <th></th>\n",
       "      <th>timedelta</th>\n",
       "      <th>n_tokens_title</th>\n",
       "      <th>n_tokens_content</th>\n",
       "      <th>n_unique_tokens</th>\n",
       "      <th>n_non_stop_words</th>\n",
       "      <th>n_non_stop_unique_tokens</th>\n",
       "      <th>num_hrefs</th>\n",
       "      <th>num_self_hrefs</th>\n",
       "      <th>num_imgs</th>\n",
       "      <th>num_videos</th>\n",
       "      <th>...</th>\n",
       "      <th>min_positive_polarity</th>\n",
       "      <th>max_positive_polarity</th>\n",
       "      <th>avg_negative_polarity</th>\n",
       "      <th>min_negative_polarity</th>\n",
       "      <th>max_negative_polarity</th>\n",
       "      <th>title_subjectivity</th>\n",
       "      <th>title_sentiment_polarity</th>\n",
       "      <th>abs_title_subjectivity</th>\n",
       "      <th>abs_title_sentiment_polarity</th>\n",
       "      <th>shares</th>\n",
       "    </tr>\n",
       "  </thead>\n",
       "  <tbody>\n",
       "    <tr>\n",
       "      <th>count</th>\n",
       "      <td>39644.000000</td>\n",
       "      <td>39644.000000</td>\n",
       "      <td>39644.000000</td>\n",
       "      <td>39644.000000</td>\n",
       "      <td>39644.000000</td>\n",
       "      <td>39644.000000</td>\n",
       "      <td>39644.000000</td>\n",
       "      <td>39644.000000</td>\n",
       "      <td>39644.000000</td>\n",
       "      <td>39644.000000</td>\n",
       "      <td>...</td>\n",
       "      <td>39644.000000</td>\n",
       "      <td>39644.000000</td>\n",
       "      <td>39644.000000</td>\n",
       "      <td>39644.000000</td>\n",
       "      <td>39644.000000</td>\n",
       "      <td>39644.000000</td>\n",
       "      <td>39644.000000</td>\n",
       "      <td>39644.000000</td>\n",
       "      <td>39644.000000</td>\n",
       "      <td>39644.000000</td>\n",
       "    </tr>\n",
       "    <tr>\n",
       "      <th>mean</th>\n",
       "      <td>354.530471</td>\n",
       "      <td>10.398749</td>\n",
       "      <td>546.514731</td>\n",
       "      <td>0.548216</td>\n",
       "      <td>0.996469</td>\n",
       "      <td>0.689175</td>\n",
       "      <td>10.883690</td>\n",
       "      <td>3.293638</td>\n",
       "      <td>4.544143</td>\n",
       "      <td>1.249874</td>\n",
       "      <td>...</td>\n",
       "      <td>0.095446</td>\n",
       "      <td>0.756728</td>\n",
       "      <td>-0.259524</td>\n",
       "      <td>-0.521944</td>\n",
       "      <td>-0.107500</td>\n",
       "      <td>0.282353</td>\n",
       "      <td>0.071425</td>\n",
       "      <td>0.341843</td>\n",
       "      <td>0.156064</td>\n",
       "      <td>3395.380184</td>\n",
       "    </tr>\n",
       "    <tr>\n",
       "      <th>std</th>\n",
       "      <td>214.163767</td>\n",
       "      <td>2.114037</td>\n",
       "      <td>471.107508</td>\n",
       "      <td>3.520708</td>\n",
       "      <td>5.231231</td>\n",
       "      <td>3.264816</td>\n",
       "      <td>11.332017</td>\n",
       "      <td>3.855141</td>\n",
       "      <td>8.309434</td>\n",
       "      <td>4.107855</td>\n",
       "      <td>...</td>\n",
       "      <td>0.071315</td>\n",
       "      <td>0.247786</td>\n",
       "      <td>0.127726</td>\n",
       "      <td>0.290290</td>\n",
       "      <td>0.095373</td>\n",
       "      <td>0.324247</td>\n",
       "      <td>0.265450</td>\n",
       "      <td>0.188791</td>\n",
       "      <td>0.226294</td>\n",
       "      <td>11626.950749</td>\n",
       "    </tr>\n",
       "    <tr>\n",
       "      <th>min</th>\n",
       "      <td>8.000000</td>\n",
       "      <td>2.000000</td>\n",
       "      <td>0.000000</td>\n",
       "      <td>0.000000</td>\n",
       "      <td>0.000000</td>\n",
       "      <td>0.000000</td>\n",
       "      <td>0.000000</td>\n",
       "      <td>0.000000</td>\n",
       "      <td>0.000000</td>\n",
       "      <td>0.000000</td>\n",
       "      <td>...</td>\n",
       "      <td>0.000000</td>\n",
       "      <td>0.000000</td>\n",
       "      <td>-1.000000</td>\n",
       "      <td>-1.000000</td>\n",
       "      <td>-1.000000</td>\n",
       "      <td>0.000000</td>\n",
       "      <td>-1.000000</td>\n",
       "      <td>0.000000</td>\n",
       "      <td>0.000000</td>\n",
       "      <td>1.000000</td>\n",
       "    </tr>\n",
       "    <tr>\n",
       "      <th>25%</th>\n",
       "      <td>164.000000</td>\n",
       "      <td>9.000000</td>\n",
       "      <td>246.000000</td>\n",
       "      <td>0.470870</td>\n",
       "      <td>1.000000</td>\n",
       "      <td>0.625739</td>\n",
       "      <td>4.000000</td>\n",
       "      <td>1.000000</td>\n",
       "      <td>1.000000</td>\n",
       "      <td>0.000000</td>\n",
       "      <td>...</td>\n",
       "      <td>0.050000</td>\n",
       "      <td>0.600000</td>\n",
       "      <td>-0.328383</td>\n",
       "      <td>-0.700000</td>\n",
       "      <td>-0.125000</td>\n",
       "      <td>0.000000</td>\n",
       "      <td>0.000000</td>\n",
       "      <td>0.166667</td>\n",
       "      <td>0.000000</td>\n",
       "      <td>946.000000</td>\n",
       "    </tr>\n",
       "    <tr>\n",
       "      <th>50%</th>\n",
       "      <td>339.000000</td>\n",
       "      <td>10.000000</td>\n",
       "      <td>409.000000</td>\n",
       "      <td>0.539226</td>\n",
       "      <td>1.000000</td>\n",
       "      <td>0.690476</td>\n",
       "      <td>8.000000</td>\n",
       "      <td>3.000000</td>\n",
       "      <td>1.000000</td>\n",
       "      <td>0.000000</td>\n",
       "      <td>...</td>\n",
       "      <td>0.100000</td>\n",
       "      <td>0.800000</td>\n",
       "      <td>-0.253333</td>\n",
       "      <td>-0.500000</td>\n",
       "      <td>-0.100000</td>\n",
       "      <td>0.150000</td>\n",
       "      <td>0.000000</td>\n",
       "      <td>0.500000</td>\n",
       "      <td>0.000000</td>\n",
       "      <td>1400.000000</td>\n",
       "    </tr>\n",
       "    <tr>\n",
       "      <th>75%</th>\n",
       "      <td>542.000000</td>\n",
       "      <td>12.000000</td>\n",
       "      <td>716.000000</td>\n",
       "      <td>0.608696</td>\n",
       "      <td>1.000000</td>\n",
       "      <td>0.754630</td>\n",
       "      <td>14.000000</td>\n",
       "      <td>4.000000</td>\n",
       "      <td>4.000000</td>\n",
       "      <td>1.000000</td>\n",
       "      <td>...</td>\n",
       "      <td>0.100000</td>\n",
       "      <td>1.000000</td>\n",
       "      <td>-0.186905</td>\n",
       "      <td>-0.300000</td>\n",
       "      <td>-0.050000</td>\n",
       "      <td>0.500000</td>\n",
       "      <td>0.150000</td>\n",
       "      <td>0.500000</td>\n",
       "      <td>0.250000</td>\n",
       "      <td>2800.000000</td>\n",
       "    </tr>\n",
       "    <tr>\n",
       "      <th>max</th>\n",
       "      <td>731.000000</td>\n",
       "      <td>23.000000</td>\n",
       "      <td>8474.000000</td>\n",
       "      <td>701.000000</td>\n",
       "      <td>1042.000000</td>\n",
       "      <td>650.000000</td>\n",
       "      <td>304.000000</td>\n",
       "      <td>116.000000</td>\n",
       "      <td>128.000000</td>\n",
       "      <td>91.000000</td>\n",
       "      <td>...</td>\n",
       "      <td>1.000000</td>\n",
       "      <td>1.000000</td>\n",
       "      <td>0.000000</td>\n",
       "      <td>0.000000</td>\n",
       "      <td>0.000000</td>\n",
       "      <td>1.000000</td>\n",
       "      <td>1.000000</td>\n",
       "      <td>0.500000</td>\n",
       "      <td>1.000000</td>\n",
       "      <td>843300.000000</td>\n",
       "    </tr>\n",
       "  </tbody>\n",
       "</table>\n",
       "<p>8 rows × 60 columns</p>\n",
       "</div>"
      ],
      "text/plain": [
       "          timedelta  n_tokens_title  n_tokens_content  n_unique_tokens  \\\n",
       "count  39644.000000    39644.000000      39644.000000     39644.000000   \n",
       "mean     354.530471       10.398749        546.514731         0.548216   \n",
       "std      214.163767        2.114037        471.107508         3.520708   \n",
       "min        8.000000        2.000000          0.000000         0.000000   \n",
       "25%      164.000000        9.000000        246.000000         0.470870   \n",
       "50%      339.000000       10.000000        409.000000         0.539226   \n",
       "75%      542.000000       12.000000        716.000000         0.608696   \n",
       "max      731.000000       23.000000       8474.000000       701.000000   \n",
       "\n",
       "       n_non_stop_words  n_non_stop_unique_tokens     num_hrefs  \\\n",
       "count      39644.000000              39644.000000  39644.000000   \n",
       "mean           0.996469                  0.689175     10.883690   \n",
       "std            5.231231                  3.264816     11.332017   \n",
       "min            0.000000                  0.000000      0.000000   \n",
       "25%            1.000000                  0.625739      4.000000   \n",
       "50%            1.000000                  0.690476      8.000000   \n",
       "75%            1.000000                  0.754630     14.000000   \n",
       "max         1042.000000                650.000000    304.000000   \n",
       "\n",
       "       num_self_hrefs      num_imgs    num_videos      ...        \\\n",
       "count    39644.000000  39644.000000  39644.000000      ...         \n",
       "mean         3.293638      4.544143      1.249874      ...         \n",
       "std          3.855141      8.309434      4.107855      ...         \n",
       "min          0.000000      0.000000      0.000000      ...         \n",
       "25%          1.000000      1.000000      0.000000      ...         \n",
       "50%          3.000000      1.000000      0.000000      ...         \n",
       "75%          4.000000      4.000000      1.000000      ...         \n",
       "max        116.000000    128.000000     91.000000      ...         \n",
       "\n",
       "       min_positive_polarity  max_positive_polarity  avg_negative_polarity  \\\n",
       "count           39644.000000           39644.000000           39644.000000   \n",
       "mean                0.095446               0.756728              -0.259524   \n",
       "std                 0.071315               0.247786               0.127726   \n",
       "min                 0.000000               0.000000              -1.000000   \n",
       "25%                 0.050000               0.600000              -0.328383   \n",
       "50%                 0.100000               0.800000              -0.253333   \n",
       "75%                 0.100000               1.000000              -0.186905   \n",
       "max                 1.000000               1.000000               0.000000   \n",
       "\n",
       "       min_negative_polarity  max_negative_polarity  title_subjectivity  \\\n",
       "count           39644.000000           39644.000000        39644.000000   \n",
       "mean               -0.521944              -0.107500            0.282353   \n",
       "std                 0.290290               0.095373            0.324247   \n",
       "min                -1.000000              -1.000000            0.000000   \n",
       "25%                -0.700000              -0.125000            0.000000   \n",
       "50%                -0.500000              -0.100000            0.150000   \n",
       "75%                -0.300000              -0.050000            0.500000   \n",
       "max                 0.000000               0.000000            1.000000   \n",
       "\n",
       "       title_sentiment_polarity  abs_title_subjectivity  \\\n",
       "count              39644.000000            39644.000000   \n",
       "mean                   0.071425                0.341843   \n",
       "std                    0.265450                0.188791   \n",
       "min                   -1.000000                0.000000   \n",
       "25%                    0.000000                0.166667   \n",
       "50%                    0.000000                0.500000   \n",
       "75%                    0.150000                0.500000   \n",
       "max                    1.000000                0.500000   \n",
       "\n",
       "       abs_title_sentiment_polarity         shares  \n",
       "count                  39644.000000   39644.000000  \n",
       "mean                       0.156064    3395.380184  \n",
       "std                        0.226294   11626.950749  \n",
       "min                        0.000000       1.000000  \n",
       "25%                        0.000000     946.000000  \n",
       "50%                        0.000000    1400.000000  \n",
       "75%                        0.250000    2800.000000  \n",
       "max                        1.000000  843300.000000  \n",
       "\n",
       "[8 rows x 60 columns]"
      ]
     },
     "execution_count": 422,
     "metadata": {},
     "output_type": "execute_result"
    }
   ],
   "source": [
    "news.describe()"
   ]
  },
  {
   "cell_type": "code",
   "execution_count": 428,
   "metadata": {
    "collapsed": false
   },
   "outputs": [
    {
     "data": {
      "text/plain": [
       "<matplotlib.axes._subplots.AxesSubplot at 0x157f6f9d0>"
      ]
     },
     "execution_count": 428,
     "metadata": {},
     "output_type": "execute_result"
    },
    {
     "data": {
      "image/png": "[encoded data removed]",
      "text/plain": [
       "<matplotlib.figure.Figure at 0x132ffb890>"
      ]
     },
     "metadata": {},
     "output_type": "display_data"
    }
   ],
   "source": [
    "news['shares'].map( lambda x: np.log10(x) ).plot(kind='hist',bins=100)"
   ]
  },
  {
   "cell_type": "code",
   "execution_count": 299,
   "metadata": {
    "collapsed": false
   },
   "outputs": [],
   "source": [
    "news_trimmed_features = news.ix[:,'timedelta':'shares']"
   ]
  },
  {
   "cell_type": "code",
   "execution_count": 429,
   "metadata": {
    "collapsed": false
   },
   "outputs": [],
   "source": [
    "log_values = list(news_trimmed_features.columns[news_trimmed_features.describe().reset_index().loc[7][1:]>1])"
   ]
  },
  {
   "cell_type": "code",
   "execution_count": 430,
   "metadata": {
    "collapsed": false
   },
   "outputs": [],
   "source": [
    "## logarithmically scale the large features\n",
    "\n",
    "for l in log_values:\n",
    "    news_trimmed_features[l] = np.log10(news_trimmed_features[l]+1)"
   ]
  },
  {
   "cell_type": "code",
   "execution_count": 431,
   "metadata": {
    "collapsed": false
   },
   "outputs": [
    {
     "data": {
      "text/html": [
       "<div>\n",
       "<table border=\"1\" class=\"dataframe\">\n",
       "  <thead>\n",
       "    <tr style=\"text-align: right;\">\n",
       "      <th></th>\n",
       "      <th>timedelta</th>\n",
       "      <th>n_tokens_title</th>\n",
       "      <th>n_tokens_content</th>\n",
       "      <th>n_unique_tokens</th>\n",
       "      <th>n_non_stop_words</th>\n",
       "      <th>n_non_stop_unique_tokens</th>\n",
       "      <th>num_hrefs</th>\n",
       "      <th>num_self_hrefs</th>\n",
       "      <th>num_imgs</th>\n",
       "      <th>num_videos</th>\n",
       "      <th>...</th>\n",
       "      <th>avg_positive_polarity</th>\n",
       "      <th>min_positive_polarity</th>\n",
       "      <th>max_positive_polarity</th>\n",
       "      <th>avg_negative_polarity</th>\n",
       "      <th>min_negative_polarity</th>\n",
       "      <th>max_negative_polarity</th>\n",
       "      <th>title_subjectivity</th>\n",
       "      <th>title_sentiment_polarity</th>\n",
       "      <th>abs_title_subjectivity</th>\n",
       "      <th>abs_title_sentiment_polarity</th>\n",
       "    </tr>\n",
       "  </thead>\n",
       "  <tbody>\n",
       "    <tr>\n",
       "      <th>count</th>\n",
       "      <td>39644.000000</td>\n",
       "      <td>39644.000000</td>\n",
       "      <td>39644.000000</td>\n",
       "      <td>39644.000000</td>\n",
       "      <td>39644.000000</td>\n",
       "      <td>39644.000000</td>\n",
       "      <td>39644.000000</td>\n",
       "      <td>39644.000000</td>\n",
       "      <td>39644.000000</td>\n",
       "      <td>39644.000000</td>\n",
       "      <td>...</td>\n",
       "      <td>39644.000000</td>\n",
       "      <td>39644.000000</td>\n",
       "      <td>39644.000000</td>\n",
       "      <td>39644.000000</td>\n",
       "      <td>39644.000000</td>\n",
       "      <td>39644.000000</td>\n",
       "      <td>39644.000000</td>\n",
       "      <td>39644.000000</td>\n",
       "      <td>39644.000000</td>\n",
       "      <td>39644.000000</td>\n",
       "    </tr>\n",
       "    <tr>\n",
       "      <th>mean</th>\n",
       "      <td>0.531735</td>\n",
       "      <td>0.311212</td>\n",
       "      <td>0.542389</td>\n",
       "      <td>0.072653</td>\n",
       "      <td>0.110895</td>\n",
       "      <td>0.086453</td>\n",
       "      <td>0.279180</td>\n",
       "      <td>0.174377</td>\n",
       "      <td>0.155810</td>\n",
       "      <td>0.058978</td>\n",
       "      <td>...</td>\n",
       "      <td>0.353825</td>\n",
       "      <td>0.095446</td>\n",
       "      <td>0.756728</td>\n",
       "      <td>-0.259524</td>\n",
       "      <td>-0.521944</td>\n",
       "      <td>-0.107500</td>\n",
       "      <td>0.282353</td>\n",
       "      <td>0.071425</td>\n",
       "      <td>0.341843</td>\n",
       "      <td>0.156064</td>\n",
       "    </tr>\n",
       "    <tr>\n",
       "      <th>std</th>\n",
       "      <td>0.053246</td>\n",
       "      <td>0.017761</td>\n",
       "      <td>0.102107</td>\n",
       "      <td>0.016611</td>\n",
       "      <td>0.019587</td>\n",
       "      <td>0.017908</td>\n",
       "      <td>0.085195</td>\n",
       "      <td>0.089444</td>\n",
       "      <td>0.114781</td>\n",
       "      <td>0.090675</td>\n",
       "      <td>...</td>\n",
       "      <td>0.104542</td>\n",
       "      <td>0.071315</td>\n",
       "      <td>0.247786</td>\n",
       "      <td>0.127726</td>\n",
       "      <td>0.290290</td>\n",
       "      <td>0.095373</td>\n",
       "      <td>0.324247</td>\n",
       "      <td>0.265450</td>\n",
       "      <td>0.188791</td>\n",
       "      <td>0.226294</td>\n",
       "    </tr>\n",
       "    <tr>\n",
       "      <th>min</th>\n",
       "      <td>0.290978</td>\n",
       "      <td>0.169416</td>\n",
       "      <td>0.000000</td>\n",
       "      <td>0.000000</td>\n",
       "      <td>0.000000</td>\n",
       "      <td>0.000000</td>\n",
       "      <td>0.000000</td>\n",
       "      <td>0.000000</td>\n",
       "      <td>0.000000</td>\n",
       "      <td>0.000000</td>\n",
       "      <td>...</td>\n",
       "      <td>0.000000</td>\n",
       "      <td>0.000000</td>\n",
       "      <td>0.000000</td>\n",
       "      <td>-1.000000</td>\n",
       "      <td>-1.000000</td>\n",
       "      <td>-1.000000</td>\n",
       "      <td>0.000000</td>\n",
       "      <td>-1.000000</td>\n",
       "      <td>0.000000</td>\n",
       "      <td>0.000000</td>\n",
       "    </tr>\n",
       "    <tr>\n",
       "      <th>25%</th>\n",
       "      <td>0.507516</td>\n",
       "      <td>0.301030</td>\n",
       "      <td>0.530545</td>\n",
       "      <td>0.067285</td>\n",
       "      <td>0.114287</td>\n",
       "      <td>0.083162</td>\n",
       "      <td>0.230186</td>\n",
       "      <td>0.114287</td>\n",
       "      <td>0.114287</td>\n",
       "      <td>0.000000</td>\n",
       "      <td>...</td>\n",
       "      <td>0.306244</td>\n",
       "      <td>0.050000</td>\n",
       "      <td>0.600000</td>\n",
       "      <td>-0.328383</td>\n",
       "      <td>-0.700000</td>\n",
       "      <td>-0.125000</td>\n",
       "      <td>0.000000</td>\n",
       "      <td>0.000000</td>\n",
       "      <td>0.166667</td>\n",
       "      <td>0.000000</td>\n",
       "    </tr>\n",
       "    <tr>\n",
       "      <th>50%</th>\n",
       "      <td>0.547957</td>\n",
       "      <td>0.309927</td>\n",
       "      <td>0.557842</td>\n",
       "      <td>0.074561</td>\n",
       "      <td>0.114287</td>\n",
       "      <td>0.089202</td>\n",
       "      <td>0.290978</td>\n",
       "      <td>0.204679</td>\n",
       "      <td>0.114287</td>\n",
       "      <td>0.000000</td>\n",
       "      <td>...</td>\n",
       "      <td>0.358755</td>\n",
       "      <td>0.100000</td>\n",
       "      <td>0.800000</td>\n",
       "      <td>-0.253333</td>\n",
       "      <td>-0.500000</td>\n",
       "      <td>-0.100000</td>\n",
       "      <td>0.150000</td>\n",
       "      <td>0.000000</td>\n",
       "      <td>0.500000</td>\n",
       "      <td>0.000000</td>\n",
       "    </tr>\n",
       "    <tr>\n",
       "      <th>75%</th>\n",
       "      <td>0.572267</td>\n",
       "      <td>0.325093</td>\n",
       "      <td>0.586083</td>\n",
       "      <td>0.081518</td>\n",
       "      <td>0.114287</td>\n",
       "      <td>0.094885</td>\n",
       "      <td>0.337677</td>\n",
       "      <td>0.230186</td>\n",
       "      <td>0.230186</td>\n",
       "      <td>0.114287</td>\n",
       "      <td>...</td>\n",
       "      <td>0.411428</td>\n",
       "      <td>0.100000</td>\n",
       "      <td>1.000000</td>\n",
       "      <td>-0.186905</td>\n",
       "      <td>-0.300000</td>\n",
       "      <td>-0.050000</td>\n",
       "      <td>0.500000</td>\n",
       "      <td>0.150000</td>\n",
       "      <td>0.500000</td>\n",
       "      <td>0.250000</td>\n",
       "    </tr>\n",
       "    <tr>\n",
       "      <th>max</th>\n",
       "      <td>0.587095</td>\n",
       "      <td>0.376616</td>\n",
       "      <td>0.692683</td>\n",
       "      <td>0.585047</td>\n",
       "      <td>0.604041</td>\n",
       "      <td>0.581333</td>\n",
       "      <td>0.542116</td>\n",
       "      <td>0.486882</td>\n",
       "      <td>0.492843</td>\n",
       "      <td>0.471847</td>\n",
       "      <td>...</td>\n",
       "      <td>1.000000</td>\n",
       "      <td>1.000000</td>\n",
       "      <td>1.000000</td>\n",
       "      <td>0.000000</td>\n",
       "      <td>0.000000</td>\n",
       "      <td>0.000000</td>\n",
       "      <td>1.000000</td>\n",
       "      <td>1.000000</td>\n",
       "      <td>0.500000</td>\n",
       "      <td>1.000000</td>\n",
       "    </tr>\n",
       "  </tbody>\n",
       "</table>\n",
       "<p>8 rows × 57 columns</p>\n",
       "</div>"
      ],
      "text/plain": [
       "          timedelta  n_tokens_title  n_tokens_content  n_unique_tokens  \\\n",
       "count  39644.000000    39644.000000      39644.000000     39644.000000   \n",
       "mean       0.531735        0.311212          0.542389         0.072653   \n",
       "std        0.053246        0.017761          0.102107         0.016611   \n",
       "min        0.290978        0.169416          0.000000         0.000000   \n",
       "25%        0.507516        0.301030          0.530545         0.067285   \n",
       "50%        0.547957        0.309927          0.557842         0.074561   \n",
       "75%        0.572267        0.325093          0.586083         0.081518   \n",
       "max        0.587095        0.376616          0.692683         0.585047   \n",
       "\n",
       "       n_non_stop_words  n_non_stop_unique_tokens     num_hrefs  \\\n",
       "count      39644.000000              39644.000000  39644.000000   \n",
       "mean           0.110895                  0.086453      0.279180   \n",
       "std            0.019587                  0.017908      0.085195   \n",
       "min            0.000000                  0.000000      0.000000   \n",
       "25%            0.114287                  0.083162      0.230186   \n",
       "50%            0.114287                  0.089202      0.290978   \n",
       "75%            0.114287                  0.094885      0.337677   \n",
       "max            0.604041                  0.581333      0.542116   \n",
       "\n",
       "       num_self_hrefs      num_imgs    num_videos  \\\n",
       "count    39644.000000  39644.000000  39644.000000   \n",
       "mean         0.174377      0.155810      0.058978   \n",
       "std          0.089444      0.114781      0.090675   \n",
       "min          0.000000      0.000000      0.000000   \n",
       "25%          0.114287      0.114287      0.000000   \n",
       "50%          0.204679      0.114287      0.000000   \n",
       "75%          0.230186      0.230186      0.114287   \n",
       "max          0.486882      0.492843      0.471847   \n",
       "\n",
       "                   ...               avg_positive_polarity  \\\n",
       "count              ...                        39644.000000   \n",
       "mean               ...                            0.353825   \n",
       "std                ...                            0.104542   \n",
       "min                ...                            0.000000   \n",
       "25%                ...                            0.306244   \n",
       "50%                ...                            0.358755   \n",
       "75%                ...                            0.411428   \n",
       "max                ...                            1.000000   \n",
       "\n",
       "       min_positive_polarity  max_positive_polarity  avg_negative_polarity  \\\n",
       "count           39644.000000           39644.000000           39644.000000   \n",
       "mean                0.095446               0.756728              -0.259524   \n",
       "std                 0.071315               0.247786               0.127726   \n",
       "min                 0.000000               0.000000              -1.000000   \n",
       "25%                 0.050000               0.600000              -0.328383   \n",
       "50%                 0.100000               0.800000              -0.253333   \n",
       "75%                 0.100000               1.000000              -0.186905   \n",
       "max                 1.000000               1.000000               0.000000   \n",
       "\n",
       "       min_negative_polarity  max_negative_polarity  title_subjectivity  \\\n",
       "count           39644.000000           39644.000000        39644.000000   \n",
       "mean               -0.521944              -0.107500            0.282353   \n",
       "std                 0.290290               0.095373            0.324247   \n",
       "min                -1.000000              -1.000000            0.000000   \n",
       "25%                -0.700000              -0.125000            0.000000   \n",
       "50%                -0.500000              -0.100000            0.150000   \n",
       "75%                -0.300000              -0.050000            0.500000   \n",
       "max                 0.000000               0.000000            1.000000   \n",
       "\n",
       "       title_sentiment_polarity  abs_title_subjectivity  \\\n",
       "count              39644.000000            39644.000000   \n",
       "mean                   0.071425                0.341843   \n",
       "std                    0.265450                0.188791   \n",
       "min                   -1.000000                0.000000   \n",
       "25%                    0.000000                0.166667   \n",
       "50%                    0.000000                0.500000   \n",
       "75%                    0.150000                0.500000   \n",
       "max                    1.000000                0.500000   \n",
       "\n",
       "       abs_title_sentiment_polarity  \n",
       "count                  39644.000000  \n",
       "mean                       0.156064  \n",
       "std                        0.226294  \n",
       "min                        0.000000  \n",
       "25%                        0.000000  \n",
       "50%                        0.000000  \n",
       "75%                        0.250000  \n",
       "max                        1.000000  \n",
       "\n",
       "[8 rows x 57 columns]"
      ]
     },
     "execution_count": 431,
     "metadata": {},
     "output_type": "execute_result"
    }
   ],
   "source": [
    "news_trimmed_features.describe()"
   ]
  },
  {
   "cell_type": "code",
   "execution_count": 303,
   "metadata": {
    "collapsed": false,
    "scrolled": true
   },
   "outputs": [],
   "source": [
    "news_trimmed_features = news_trimmed_features.replace([np.inf, -np.inf], np.nan)\n",
    "news_trimmed_features = news_trimmed_features.fillna(method='pad')"
   ]
  },
  {
   "cell_type": "code",
   "execution_count": 304,
   "metadata": {
    "collapsed": false
   },
   "outputs": [],
   "source": [
    "news_response = news_trimmed_features['shares']\n",
    "news_trimmed_features = news_trimmed_features.ix[:,'timedelta':'abs_title_sentiment_polarity']"
   ]
  },
  {
   "cell_type": "code",
   "execution_count": 305,
   "metadata": {
    "collapsed": false
   },
   "outputs": [],
   "source": [
    "news_trimmed_features = news_trimmed_features.drop('weekday_is_sunday',1)\n",
    "news_trimmed_features = news_trimmed_features.drop('LDA_00',1)"
   ]
  },
  {
   "cell_type": "code",
   "execution_count": 306,
   "metadata": {
    "collapsed": false
   },
   "outputs": [],
   "source": [
    "from sklearn import cross_validation\n",
    "news_features_train, news_features_test, news_shares_train, news_shares_test = \\\n",
    "cross_validation.train_test_split(news_trimmed_features, news_response, test_size=0.4, random_state=0)"
   ]
  },
  {
   "cell_type": "code",
   "execution_count": 436,
   "metadata": {
    "collapsed": false,
    "scrolled": true
   },
   "outputs": [
    {
     "data": {
      "text/plain": [
       "<matplotlib.text.Text at 0x17aa3cb10>"
      ]
     },
     "execution_count": 436,
     "metadata": {},
     "output_type": "execute_result"
    },
    {
     "data": {
      "image/png": "[encoded data removed]",
      "text/plain": [
       "<matplotlib.figure.Figure at 0x17fd7e650>"
      ]
     },
     "metadata": {},
     "output_type": "display_data"
    }
   ],
   "source": [
    "from sklearn import linear_model\n",
    "lmodel = linear_model.LinearRegression().fit(news_features_train, news_shares_train)\n",
    "plt.scatter(news_shares_train,lmodel.predict(news_features_train),color='black')\n",
    "plt.xlabel('Observed')\n",
    "plt.ylabel('Predicted')"
   ]
  },
  {
   "cell_type": "code",
   "execution_count": 437,
   "metadata": {
    "collapsed": false
   },
   "outputs": [
    {
     "data": {
      "text/plain": [
       "<matplotlib.text.Text at 0x17aa17150>"
      ]
     },
     "execution_count": 437,
     "metadata": {},
     "output_type": "execute_result"
    },
    {
     "data": {
      "image/png": "[encoded data removed]",
      "text/plain": [
       "<matplotlib.figure.Figure at 0x17fd45350>"
      ]
     },
     "metadata": {},
     "output_type": "display_data"
    }
   ],
   "source": [
    "plt.scatter(news_shares_test,lmodel.predict(news_features_test),color='red')\n",
    "plt.xlabel('Observed')\n",
    "plt.ylabel('Predicted')"
   ]
  },
  {
   "cell_type": "code",
   "execution_count": 342,
   "metadata": {
    "collapsed": false
   },
   "outputs": [
    {
     "data": {
      "text/plain": [
       "0.12903488253983986"
      ]
     },
     "execution_count": 342,
     "metadata": {},
     "output_type": "execute_result"
    }
   ],
   "source": [
    "lmodel.score(news_features_train, news_shares_train)"
   ]
  },
  {
   "cell_type": "code",
   "execution_count": 329,
   "metadata": {
    "collapsed": false
   },
   "outputs": [
    {
     "data": {
      "text/plain": [
       "0.10897779832796251"
      ]
     },
     "execution_count": 329,
     "metadata": {},
     "output_type": "execute_result"
    }
   ],
   "source": [
    "lmodel.score(news_features_test, news_shares_test)"
   ]
  },
  {
   "cell_type": "code",
   "execution_count": 450,
   "metadata": {
    "collapsed": false
   },
   "outputs": [
    {
     "data": {
      "text/plain": [
       "Index([u'n_unique_tokens', u'n_non_stop_unique_tokens', u'n_non_stop_words',\n",
       "       u'kw_avg_avg', u'global_rate_positive_words',\n",
       "       u'self_reference_avg_sharess', u'global_subjectivity', u'LDA_02',\n",
       "       u'num_keywords', u'self_reference_max_shares', u'n_tokens_content',\n",
       "       u'LDA_03', u'LDA_01', u'data_channel_is_entertainment', u'num_hrefs',\n",
       "       u'num_self_hrefs', u'global_sentiment_polarity', u'kw_max_max',\n",
       "       u'is_weekend', u'rate_positive_words', u'LDA_04',\n",
       "       u'average_token_length', u'min_positive_polarity',\n",
       "       u'data_channel_is_bus', u'data_channel_is_world', u'num_videos',\n",
       "       u'global_rate_negative_words', u'data_channel_is_lifestyle',\n",
       "       u'num_imgs', u'avg_positive_polarity', u'abs_title_subjectivity',\n",
       "       u'data_channel_is_socmed', u'n_tokens_title', u'kw_max_avg',\n",
       "       u'self_reference_min_shares', u'rate_negative_words',\n",
       "       u'title_sentiment_polarity', u'weekday_is_tuesday',\n",
       "       u'min_negative_polarity', u'weekday_is_wednesday',\n",
       "       u'max_positive_polarity', u'title_subjectivity', u'weekday_is_thursday',\n",
       "       u'data_channel_is_tech', u'kw_min_avg', u'kw_min_max', u'kw_avg_max',\n",
       "       u'timedelta', u'kw_avg_min', u'kw_max_min', u'max_negative_polarity',\n",
       "       u'kw_min_min', u'avg_negative_polarity', u'weekday_is_saturday',\n",
       "       u'weekday_is_friday', u'weekday_is_monday',\n",
       "       u'abs_title_sentiment_polarity'],\n",
       "      dtype='object')"
      ]
     },
     "execution_count": 450,
     "metadata": {},
     "output_type": "execute_result"
    }
   ],
   "source": [
    "ix = np.argsort(abs(lmodel.coef_))[::-1][:]\n",
    "news_trimmed_features.columns[ix]"
   ]
  },
  {
   "cell_type": "code",
   "execution_count": 365,
   "metadata": {
    "collapsed": false
   },
   "outputs": [],
   "source": [
    "lmodel_ridge = linear_model.RidgeCV().fit(news_features_train, news_shares_train)"
   ]
  },
  {
   "cell_type": "code",
   "execution_count": 451,
   "metadata": {
    "collapsed": false
   },
   "outputs": [
    {
     "data": {
      "text/plain": [
       "0.10000000000000001"
      ]
     },
     "execution_count": 451,
     "metadata": {},
     "output_type": "execute_result"
    }
   ],
   "source": [
    "lmodel_ridge.alpha_"
   ]
  },
  {
   "cell_type": "code",
   "execution_count": 452,
   "metadata": {
    "collapsed": false
   },
   "outputs": [
    {
     "data": {
      "text/plain": [
       "0.10872000697379602"
      ]
     },
     "execution_count": 452,
     "metadata": {},
     "output_type": "execute_result"
    }
   ],
   "source": [
    "lmodel_ridge.score(news_features_test, news_shares_test)"
   ]
  },
  {
   "cell_type": "code",
   "execution_count": 360,
   "metadata": {
    "collapsed": false
   },
   "outputs": [],
   "source": [
    "lmodel_lasso = linear_model.LassoCV(max_iter=10000).fit(news_features_train, news_shares_train)"
   ]
  },
  {
   "cell_type": "code",
   "execution_count": 361,
   "metadata": {
    "collapsed": false
   },
   "outputs": [
    {
     "data": {
      "text/plain": [
       "6.2489899735883458e-05"
      ]
     },
     "execution_count": 361,
     "metadata": {},
     "output_type": "execute_result"
    }
   ],
   "source": [
    "lmodel_lasso.alpha_"
   ]
  },
  {
   "cell_type": "code",
   "execution_count": 362,
   "metadata": {
    "collapsed": false
   },
   "outputs": [
    {
     "data": {
      "text/plain": [
       "<matplotlib.collections.PathCollection at 0x15a8f8850>"
      ]
     },
     "execution_count": 362,
     "metadata": {},
     "output_type": "execute_result"
    },
    {
     "data": {
      "image/png": "[encoded data removed]",
      "text/plain": [
       "<matplotlib.figure.Figure at 0x1592c2390>"
      ]
     },
     "metadata": {},
     "output_type": "display_data"
    }
   ],
   "source": [
    "plt.scatter(news_shares_train,lmodel_lasso.predict(news_features_train),color='black')"
   ]
  },
  {
   "cell_type": "code",
   "execution_count": 363,
   "metadata": {
    "collapsed": false
   },
   "outputs": [
    {
     "data": {
      "text/plain": [
       "0.10915566003563759"
      ]
     },
     "execution_count": 363,
     "metadata": {},
     "output_type": "execute_result"
    }
   ],
   "source": [
    "lmodel_lasso.score(news_features_test, news_shares_test)"
   ]
  },
  {
   "cell_type": "code",
   "execution_count": 367,
   "metadata": {
    "collapsed": false
   },
   "outputs": [
    {
     "data": {
      "text/plain": [
       "0.10897779832796251"
      ]
     },
     "execution_count": 367,
     "metadata": {},
     "output_type": "execute_result"
    }
   ],
   "source": [
    "lmodel.score(news_features_test, news_shares_test)"
   ]
  },
  {
   "cell_type": "code",
   "execution_count": 381,
   "metadata": {
    "collapsed": true
   },
   "outputs": [],
   "source": [
    "from sklearn.tree import DecisionTreeRegressor\n",
    "\n",
    "max_depths = [2,4,6,8,32,64,128,256]\n",
    "\n",
    "dtrees = []\n",
    "\n",
    "for m in max_depths:\n",
    "    dtrees.append(DecisionTreeRegressor(min_samples_leaf=20,max_depth=m).\\\n",
    "                  fit(news_features_train, news_shares_train))"
   ]
  },
  {
   "cell_type": "code",
   "execution_count": 401,
   "metadata": {
    "collapsed": false
   },
   "outputs": [],
   "source": [
    "r2_values = []\n",
    "\n",
    "for d in dtrees:\n",
    "    r2_values.append(d.score(news_features_test, news_shares_test))"
   ]
  },
  {
   "cell_type": "code",
   "execution_count": 402,
   "metadata": {
    "collapsed": false
   },
   "outputs": [
    {
     "data": {
      "text/plain": [
       "[<matplotlib.lines.Line2D at 0x160704b50>]"
      ]
     },
     "execution_count": 402,
     "metadata": {},
     "output_type": "execute_result"
    },
    {
     "data": {
      "image/png": "[encoded data removed]",
      "text/plain": [
       "<matplotlib.figure.Figure at 0x16054d350>"
      ]
     },
     "metadata": {},
     "output_type": "display_data"
    }
   ],
   "source": [
    "plt.plot(max_depths,r2_values,color='red')"
   ]
  },
  {
   "cell_type": "code",
   "execution_count": 380,
   "metadata": {
    "collapsed": false
   },
   "outputs": [
    {
     "data": {
      "text/plain": [
       "<matplotlib.collections.PathCollection at 0x1588be410>"
      ]
     },
     "execution_count": 380,
     "metadata": {},
     "output_type": "execute_result"
    },
    {
     "data": {
      "image/png": "[encoded data removed]",
      "text/plain": [
       "<matplotlib.figure.Figure at 0x133175910>"
      ]
     },
     "metadata": {},
     "output_type": "display_data"
    }
   ],
   "source": [
    "plt.scatter(dtree.predict(news_features_test), news_shares_test, color='red',alpha=0.1)"
   ]
  },
  {
   "cell_type": "code",
   "execution_count": 391,
   "metadata": {
    "collapsed": false
   },
   "outputs": [],
   "source": [
    "from sklearn import ensemble\n",
    "\n",
    "rforests = []\n",
    "num_trees = [2,4,6,8,32,64,128,256]\n",
    "\n",
    "for n in num_trees:\n",
    "    rforests.append(ensemble.RandomForestRegressor(n_estimators=n,min_samples_leaf=20).fit(news_features_train, news_shares_train))\n"
   ]
  },
  {
   "cell_type": "code",
   "execution_count": 397,
   "metadata": {
    "collapsed": true
   },
   "outputs": [],
   "source": [
    "r2_values_rforest = []\n",
    "\n",
    "for f in rforests:\n",
    "    r2_values_rforest.append(f.score(news_features_test, news_shares_test))"
   ]
  },
  {
   "cell_type": "code",
   "execution_count": 398,
   "metadata": {
    "collapsed": false
   },
   "outputs": [
    {
     "data": {
      "text/plain": [
       "[<matplotlib.lines.Line2D at 0x160335890>]"
      ]
     },
     "execution_count": 398,
     "metadata": {},
     "output_type": "execute_result"
    },
    {
     "data": {
      "image/png": "[encoded data removed]",
      "text/plain": [
       "<matplotlib.figure.Figure at 0x15fea0590>"
      ]
     },
     "metadata": {},
     "output_type": "display_data"
    }
   ],
   "source": [
    "plt.plot(num_trees,r2_values_rforest,color='red')"
   ]
  },
  {
   "cell_type": "code",
   "execution_count": 455,
   "metadata": {
    "collapsed": false
   },
   "outputs": [
    {
     "data": {
      "text/plain": [
       "Index([u'kw_avg_avg', u'self_reference_avg_sharess', u'kw_max_avg',\n",
       "       u'timedelta', u'global_subjectivity', u'average_token_length',\n",
       "       u'LDA_01', u'LDA_04', u'kw_avg_max', u'kw_avg_min',\n",
       "       u'self_reference_min_shares', u'n_unique_tokens', u'num_hrefs',\n",
       "       u'LDA_02', u'n_non_stop_unique_tokens', u'data_channel_is_tech',\n",
       "       u'LDA_03', u'is_weekend', u'n_tokens_content',\n",
       "       u'data_channel_is_entertainment', u'global_rate_negative_words',\n",
       "       u'kw_min_avg', u'min_positive_polarity', u'avg_positive_polarity',\n",
       "       u'kw_max_min', u'avg_negative_polarity', u'global_rate_positive_words',\n",
       "       u'global_sentiment_polarity', u'n_tokens_title',\n",
       "       u'abs_title_sentiment_polarity', u'kw_min_max',\n",
       "       u'self_reference_max_shares', u'data_channel_is_socmed',\n",
       "       u'title_sentiment_polarity', u'rate_positive_words', u'num_imgs',\n",
       "       u'rate_negative_words', u'num_videos', u'max_positive_polarity',\n",
       "       u'title_subjectivity', u'min_negative_polarity', u'num_self_hrefs',\n",
       "       u'kw_min_min', u'max_negative_polarity', u'num_keywords',\n",
       "       u'weekday_is_monday', u'weekday_is_saturday', u'abs_title_subjectivity',\n",
       "       u'weekday_is_thursday', u'data_channel_is_lifestyle',\n",
       "       u'data_channel_is_bus', u'weekday_is_wednesday', u'n_non_stop_words',\n",
       "       u'data_channel_is_world', u'weekday_is_friday', u'weekday_is_tuesday',\n",
       "       u'kw_max_max'],\n",
       "      dtype='object')"
      ]
     },
     "execution_count": 455,
     "metadata": {},
     "output_type": "execute_result"
    }
   ],
   "source": [
    "ix = np.argsort(abs(f[5].feature_importances_))[::-1][:]\n",
    "news_trimmed_features.columns[ix]\n"
   ]
  },
  {
   "cell_type": "code",
   "execution_count": null,
   "metadata": {
    "collapsed": true
   },
   "outputs": [],
   "source": []
  }
 ],
 "metadata": {
  "kernelspec": {
   "display_name": "Python 2",
   "language": "python",
   "name": "python2"
  },
  "language_info": {
   "codemirror_mode": {
    "name": "ipython",
    "version": 2
   },
   "file_extension": ".py",
   "mimetype": "text/x-python",
   "name": "python",
   "nbconvert_exporter": "python",
   "pygments_lexer": "ipython2",
   "version": "2.7.10"
  }
 },
 "nbformat": 4,
 "nbformat_minor": 0
}
