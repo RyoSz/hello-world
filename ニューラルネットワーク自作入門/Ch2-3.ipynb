{
 "cells": [
  {
   "cell_type": "code",
   "execution_count": 26,
   "metadata": {
    "collapsed": true
   },
   "outputs": [],
   "source": [
    "#  3層のニューラルネットワークでMNISTデータセットを学習する\n",
    "import numpy\n",
    "import scipy.special\n",
    "import matplotlib.pyplot\n",
    "%matplotlib inline"
   ]
  },
  {
   "cell_type": "code",
   "execution_count": 27,
   "metadata": {
    "collapsed": true
   },
   "outputs": [],
   "source": [
    "#  ニューラルネットワークのクラスの定義\n",
    "class neuralNetwork:\n",
    "    \n",
    "    #  ニューラルネットワークの初期化\n",
    "    def __init__(self, inputnodes, hiddennodes, outputnodes, learningrate):\n",
    "        #  入力層、隠れ層、出力層のノード数の設定\n",
    "        self.inodes = inputnodes\n",
    "        self.hnodes = hiddennodes\n",
    "        self.onodes = outputnodes\n",
    "        \n",
    "        #  リンクの重み行列wihとwho\n",
    "        #　行列内の重み w_i_j, ノードiから次の層のノードjへのリンクの重み、w11、w21など\n",
    "        #  平均がゼロで、標準偏差を入ってくるリンクの数の平方根の逆数とした正規分布からのサンプルした値を初期値にする方法。\n",
    "        self.wih = numpy.random.normal(0.0, pow(self.hnodes, -0.5), (self.hnodes, self.inodes))\n",
    "        self.who = numpy.random.normal(0.0, pow(self.onodes, -0.5), (self.onodes, self.hnodes))\n",
    "        \n",
    "        #  学習率の設定\n",
    "        self.lr = learningrate\n",
    "        \n",
    "        #  活性化関数はシグモイド関数\n",
    "        #  lambda：def()を使う代わりに関数を簡単に作成している。xを入力とし、そのシグモイド関数の値であるscipy.special.expit()を返すもの。\n",
    "        self.activation_function = lambda x: scipy.special.expit(x)\n",
    "        \n",
    "        pass\n",
    "    \n",
    "    #  ニューラルネットワークの学習\n",
    "    def train(self, inputs_list, targets_list):\n",
    "        #　入力リストを行列に変換\n",
    "        inputs = numpy.array(inputs_list, ndmin=2).T\n",
    "        targets = numpy.array(targets_list, ndmin=2).T\n",
    "        \n",
    "        #  隠れ層に入ってくる信号の計算\n",
    "        hidden_inputs = numpy.dot(self.wih, inputs)\n",
    "        #  隠れ層で結合された信号を活性化関数により出力\n",
    "        hidden_outputs = self.activation_function(hidden_inputs)\n",
    "        \n",
    "        #  出力層に入ってくる信号の計算\n",
    "        final_inputs = numpy.dot(self.who, hidden_outputs)\n",
    "        #  出力層で結合された信号を活性化関数により出力\n",
    "        final_outputs = self.activation_function(final_inputs)\n",
    "        \n",
    "        #  出力層の誤差 = (目標出力 - 最終出力)\n",
    "        output_errors = targets - final_outputs\n",
    "        #  隠れ層の誤差は出力層の誤差をリンクの重みの割合で分配\n",
    "        hidden_errors = numpy.dot(self.who.T, output_errors)\n",
    "        \n",
    "        #　隠れ層と出力層の間のリンクの重みを更新\n",
    "        self.who += self.lr * numpy.dot((output_errors * final_outputs * (1.0 - final_outputs)), numpy.transpose(hidden_outputs))\n",
    "        #  入力層と隠れ層の間のリンクの重みを更新\n",
    "        self.wih += self.lr * numpy.dot((hidden_errors * hidden_outputs * (1.0 - hidden_outputs)), numpy.transpose(inputs))\n",
    "        \n",
    "        pass\n",
    "    \n",
    "    #  ニューラルネットワークへの照会\n",
    "    def query(self, inputs_list):\n",
    "        #  入力リストを行列に変換。「.T」は転置行列を取る。恐らく、この後で入力行列と重み行列の内積を行う際に、\n",
    "        #　「重み行列（３ｘ３）ｘ入力行列（１ｘ３）」を行うので、入力行列の転置をとって「３ｘ１」にしておかないと内積ができないから。\n",
    "        inputs = numpy.array(inputs_list).T\n",
    "        \n",
    "        #  隠れ層に入ってくる信号の計算。入力行列（inputs、実際は１ｘｎのベクトル）と重み行列（self.wih）の内積。\n",
    "        hidden_inputs = numpy.dot(self.wih, inputs)\n",
    "        #　隠れ層で結合された信号を活性化関数により出力\n",
    "        hidden_outputs = self.activation_function(hidden_inputs)\n",
    "        \n",
    "        #  出力層に入ってくる信号の計算\n",
    "        final_inputs = numpy.dot(self.who, hidden_outputs)\n",
    "        #  出力層で結合された信号を活性化関数により出力\n",
    "        final_outputs = self.activation_function(final_inputs)\n",
    "        \n",
    "        return final_outputs\n",
    "        \n",
    "        pass"
   ]
  },
  {
   "cell_type": "code",
   "execution_count": 28,
   "metadata": {
    "collapsed": true
   },
   "outputs": [],
   "source": [
    "#  入力層 = 784, 隠れ層＝100、出力層＝10、学習率=0.3\n",
    "input_nodes = 784\n",
    "hidden_nodes = 100\n",
    "output_nodes = 10\n",
    "learning_rate = 0.3\n",
    "\n",
    "#  ニューラルネットワークのクラスを持つオブジェクトを作成。\n",
    "n = neuralNetwork(input_nodes, hidden_nodes, output_nodes, learning_rate)"
   ]
  },
  {
   "cell_type": "code",
   "execution_count": 22,
   "metadata": {
    "collapsed": true
   },
   "outputs": [],
   "source": [
    "#  100行のTrainデータを読み込む\n",
    "training_data_file = open(\"mnist_train_100.csv\", \"r\")\n",
    "training_data_list = training_data_file.readlines()\n",
    "training_data_file.close()"
   ]
  },
  {
   "cell_type": "code",
   "execution_count": 23,
   "metadata": {
    "collapsed": false
   },
   "outputs": [],
   "source": [
    "#  ニューラルネットワークの学習\n",
    "#　訓練データの全データに対して実行。training_data_listをrecordの中に入れていく（？）\n",
    "for record in training_data_list:\n",
    "    #  データをコンマでSplitして、「all_values」の中に入れていく\n",
    "    all_values = record.split(',')\n",
    "    #  入力値のスケーリングとシフト\n",
    "    inputs = (numpy.asfarray(all_values[1:])/255.0*0.99)+0.01\n",
    "    #  目標配列の生成（ラベルの位置が0.99、残りは0.01）\n",
    "    targets = numpy.zeros(output_nodes)+0.01\n",
    "    #  all_values[0]はこのデータのラベル\n",
    "    targets[int(all_values[0])] = 0.99\n",
    "    n.train(inputs, targets)\n",
    "    pass"
   ]
  },
  {
   "cell_type": "code",
   "execution_count": 24,
   "metadata": {
    "collapsed": true
   },
   "outputs": [],
   "source": [
    "#  10個のテストデータを読み込む\n",
    "test_data_file = open(\"mnist_test_10.csv\", \"r\")\n",
    "test_data_list = test_data_file.readlines()\n",
    "test_data_file.close()"
   ]
  },
  {
   "cell_type": "code",
   "execution_count": 25,
   "metadata": {
    "collapsed": false
   },
   "outputs": [
    {
     "name": "stdout",
     "output_type": "stream",
     "text": [
      "7\n"
     ]
    }
   ],
   "source": [
    "#  テストデータの最初の行を取得し、さらにそこから最初の値（正解ラベル）を取得する。\n",
    "all_values = test_data_list[0].split(',')\n",
    "print(all_values[0])"
   ]
  },
  {
   "cell_type": "code",
   "execution_count": 26,
   "metadata": {
    "collapsed": false
   },
   "outputs": [
    {
     "data": {
      "text/plain": [
       "array([ 0.14684073,  0.01565693,  0.05710512,  0.07632283,  0.08085886,\n",
       "        0.04245679,  0.00906664,  0.83457858,  0.04902151,  0.0408691 ])"
      ]
     },
     "execution_count": 26,
     "metadata": {},
     "output_type": "execute_result"
    }
   ],
   "source": [
    "#  上で学習したモデルに実際に、正解が7であるはずの画像のRGBデータの784データを投入し、返り値を見る。\n",
    "n.query ((numpy.asfarray(all_values[1:])/255.0*0.99)+0.01)"
   ]
  },
  {
   "cell_type": "code",
   "execution_count": 28,
   "metadata": {
    "collapsed": false,
    "scrolled": true
   },
   "outputs": [
    {
     "data": {
      "text/plain": [
       "array([ 0.23614827,  0.06796785,  0.12633074,  0.35294899,  0.0032089 ,\n",
       "        0.02427146,  0.16791441,  0.0190274 ,  0.20770784,  0.00218172])"
      ]
     },
     "execution_count": 28,
     "metadata": {},
     "output_type": "execute_result"
    }
   ],
   "source": [
    "all_values = test_data_list[1].split(',')\n",
    "n.query ((numpy.asfarray(all_values[1:])/255.0*0.99)+0.01)"
   ]
  },
  {
   "cell_type": "code",
   "execution_count": 30,
   "metadata": {
    "collapsed": false
   },
   "outputs": [
    {
     "name": "stdout",
     "output_type": "stream",
     "text": [
      "2\n"
     ]
    }
   ],
   "source": [
    "print(all_values[0])"
   ]
  },
  {
   "cell_type": "code",
   "execution_count": 31,
   "metadata": {
    "collapsed": false
   },
   "outputs": [
    {
     "data": {
      "text/plain": [
       "array([ 0.05842157,  0.88991746,  0.07152242,  0.09654571,  0.02669291,\n",
       "        0.0609351 ,  0.09122812,  0.08004687,  0.13693876,  0.00729743])"
      ]
     },
     "execution_count": 31,
     "metadata": {},
     "output_type": "execute_result"
    }
   ],
   "source": [
    "all_values = test_data_list[2].split(',')\n",
    "n.query ((numpy.asfarray(all_values[1:])/255.0*0.99)+0.01)"
   ]
  },
  {
   "cell_type": "code",
   "execution_count": 32,
   "metadata": {
    "collapsed": false
   },
   "outputs": [
    {
     "name": "stdout",
     "output_type": "stream",
     "text": [
      "1\n"
     ]
    }
   ],
   "source": [
    "print(all_values[0])"
   ]
  },
  {
   "cell_type": "code",
   "execution_count": 39,
   "metadata": {
    "collapsed": false
   },
   "outputs": [
    {
     "name": "stdout",
     "output_type": "stream",
     "text": [
      "7 correct label\n",
      "7 network's answer\n",
      "2 correct label\n",
      "3 network's answer\n",
      "1 correct label\n",
      "1 network's answer\n",
      "0 correct label\n",
      "0 network's answer\n",
      "4 correct label\n",
      "4 network's answer\n",
      "1 correct label\n",
      "1 network's answer\n",
      "4 correct label\n",
      "4 network's answer\n",
      "9 correct label\n",
      "4 network's answer\n",
      "5 correct label\n",
      "1 network's answer\n",
      "9 correct label\n",
      "7 network's answer\n"
     ]
    }
   ],
   "source": [
    "#  テストデータ全てに対してテストを実行。\n",
    "#　Scorecardは判定のリスト、最初は空\n",
    "scorecard = []\n",
    "\n",
    "for record in test_data_list:\n",
    "    all_values = record.split(',')\n",
    "    correct_label = int(all_values[0])  #　全ての行から0番目の値だけをcorrect_labelとして取り出している。\n",
    "    print(correct_label, \"correct label\")  #　それを印刷\n",
    "    inputs = (numpy.asfarray(all_values[1:]) / 255.0 *0.99) + 0.01  #　全ての行から1番目以降の値をinputsとして取り出している。\n",
    "    outputs = n.query(inputs)\n",
    "    label = numpy.argmax(outputs)  #　outputs配列の中の最も大きい数字の列数を返す。値ではなく。\n",
    "    print(label, \"network's answer\")\n",
    "    if (label == correct_label):\n",
    "        scorecard.append(1)\n",
    "    else:\n",
    "        scorecard.append(0)\n",
    "        pass\n",
    "    pass"
   ]
  },
  {
   "cell_type": "code",
   "execution_count": 40,
   "metadata": {
    "collapsed": false
   },
   "outputs": [
    {
     "name": "stdout",
     "output_type": "stream",
     "text": [
      "[1, 0, 1, 1, 1, 1, 1, 0, 0, 0]\n"
     ]
    }
   ],
   "source": [
    "print(scorecard)"
   ]
  },
  {
   "cell_type": "code",
   "execution_count": 41,
   "metadata": {
    "collapsed": false
   },
   "outputs": [
    {
     "name": "stdout",
     "output_type": "stream",
     "text": [
      "performance =  0.6\n"
     ]
    }
   ],
   "source": [
    "scorecard_array = numpy.asarray(scorecard)\n",
    "print(\"performance = \", scorecard_array.sum() / scorecard_array.size)"
   ]
  },
  {
   "cell_type": "code",
   "execution_count": 29,
   "metadata": {
    "collapsed": true
   },
   "outputs": [],
   "source": [
    "#  全てのデータセットでTrainを実行\n",
    "#  Trainデータを読み込む\n",
    "training_data_file = open(\"mnist_train.csv\", \"r\")\n",
    "training_data_list = training_data_file.readlines()\n",
    "training_data_file.close()"
   ]
  },
  {
   "cell_type": "code",
   "execution_count": 30,
   "metadata": {
    "collapsed": true
   },
   "outputs": [],
   "source": [
    "#  ニューラルネットワークの学習\n",
    "#　訓練データの全データに対して実行。training_data_listをrecordの中に入れていく（？）\n",
    "for record in training_data_list:\n",
    "    #  データをコンマでSplitして、「all_values」の中に入れていく\n",
    "    all_values = record.split(',')\n",
    "    #  入力値のスケーリングとシフト\n",
    "    inputs = (numpy.asfarray(all_values[1:])/255.0*0.99)+0.01\n",
    "    #  目標配列の生成（ラベルの位置が0.99、残りは0.01）\n",
    "    targets = numpy.zeros(output_nodes)+0.01\n",
    "    #  all_values[0]はこのデータのラベル\n",
    "    targets[int(all_values[0])] = 0.99\n",
    "    n.train(inputs, targets)\n",
    "    pass"
   ]
  },
  {
   "cell_type": "code",
   "execution_count": 44,
   "metadata": {
    "collapsed": true
   },
   "outputs": [],
   "source": [
    "#  全てのテストデータを読み込む\n",
    "test_data_file = open(\"mnist_test.csv\", \"r\")\n",
    "test_data_list = test_data_file.readlines()\n",
    "test_data_file.close()"
   ]
  },
  {
   "cell_type": "code",
   "execution_count": 45,
   "metadata": {
    "collapsed": true
   },
   "outputs": [],
   "source": [
    "#  テストデータ全てに対してテストを実行。\n",
    "#　Scorecardは判定のリスト、最初は空\n",
    "scorecard = []\n",
    "\n",
    "for record in test_data_list:\n",
    "    all_values = record.split(',')\n",
    "    correct_label = int(all_values[0])  #　全ての行から0番目の値だけをcorrect_labelとして取り出している。\n",
    "    inputs = (numpy.asfarray(all_values[1:]) / 255.0 *0.99) + 0.01  #　全ての行から1番目以降の値をinputsとして取り出している。\n",
    "    outputs = n.query(inputs)\n",
    "    label = numpy.argmax(outputs)  #　outputs配列の中の最も大きい数字の列数を返す。値ではなく。\n",
    "    if (label == correct_label):\n",
    "        scorecard.append(1)\n",
    "    else:\n",
    "        scorecard.append(0)\n",
    "        pass\n",
    "    pass"
   ]
  },
  {
   "cell_type": "code",
   "execution_count": 46,
   "metadata": {
    "collapsed": false
   },
   "outputs": [
    {
     "name": "stdout",
     "output_type": "stream",
     "text": [
      "performance =  0.9466\n"
     ]
    }
   ],
   "source": [
    "scorecard_array = numpy.asarray(scorecard)\n",
    "\n",
    "print(\"performance = \", scorecard_array.sum() / scorecard_array.size)"
   ]
  },
  {
   "cell_type": "code",
   "execution_count": 31,
   "metadata": {
    "collapsed": false
   },
   "outputs": [
    {
     "data": {
      "text/plain": [
       "(28, 28)"
      ]
     },
     "execution_count": 31,
     "metadata": {},
     "output_type": "execute_result"
    }
   ],
   "source": [
    "import numpy\n",
    "import scipy.misc\n",
    "img_array = scipy.misc.imread(\"aaa.png\", flatten=True)\n",
    "numpy.shape(img_array)"
   ]
  },
  {
   "cell_type": "code",
   "execution_count": 23,
   "metadata": {
    "collapsed": false
   },
   "outputs": [
    {
     "data": {
      "text/plain": [
       "<matplotlib.image.AxesImage at 0xa5c3eb8>"
      ]
     },
     "execution_count": 23,
     "metadata": {},
     "output_type": "execute_result"
    },
    {
     "data": {
      "image/png": "[encoded data removed]",
      "text/plain": [
       "<matplotlib.figure.Figure at 0x9135320>"
      ]
     },
     "metadata": {},
     "output_type": "display_data"
    }
   ],
   "source": [
    "import matplotlib.pyplot\n",
    "#  作図を埋め込む指示\n",
    "%matplotlib inline\n",
    "matplotlib.pyplot.imshow(img_array, cmap='Greys', interpolation='None')"
   ]
  },
  {
   "cell_type": "code",
   "execution_count": 32,
   "metadata": {
    "collapsed": false
   },
   "outputs": [
    {
     "data": {
      "text/plain": [
       "(784,)"
      ]
     },
     "execution_count": 32,
     "metadata": {},
     "output_type": "execute_result"
    }
   ],
   "source": [
    "img_data = 255.0 - img_array.reshape(784)\n",
    "img_data = (img_data/255.0*0.99)+0.01\n",
    "numpy.shape(img_data)"
   ]
  },
  {
   "cell_type": "code",
   "execution_count": 35,
   "metadata": {
    "collapsed": false
   },
   "outputs": [
    {
     "name": "stdout",
     "output_type": "stream",
     "text": [
      "network answer is 5\n"
     ]
    }
   ],
   "source": [
    "answer = n.query(img_data)\n",
    "print(\"network answer is\", numpy.argmax(answer))"
   ]
  },
  {
   "cell_type": "code",
   "execution_count": 41,
   "metadata": {
    "collapsed": false
   },
   "outputs": [
    {
     "data": {
      "text/plain": [
       "(28, 28)"
      ]
     },
     "execution_count": 41,
     "metadata": {},
     "output_type": "execute_result"
    }
   ],
   "source": [
    "import numpy\n",
    "import scipy.misc\n",
    "img_array = scipy.misc.imread(\"One.png\", flatten=True)\n",
    "numpy.shape(img_array)"
   ]
  },
  {
   "cell_type": "code",
   "execution_count": 42,
   "metadata": {
    "collapsed": false
   },
   "outputs": [
    {
     "data": {
      "text/plain": [
       "<matplotlib.image.AxesImage at 0x11599208>"
      ]
     },
     "execution_count": 42,
     "metadata": {},
     "output_type": "execute_result"
    },
    {
     "data": {
      "image/png": "[encoded data removed]",
      "text/plain": [
       "<matplotlib.figure.Figure at 0xa65a400>"
      ]
     },
     "metadata": {},
     "output_type": "display_data"
    }
   ],
   "source": [
    "import matplotlib.pyplot\n",
    "#  作図を埋め込む指示\n",
    "%matplotlib inline\n",
    "matplotlib.pyplot.imshow(img_array, cmap='Greys', interpolation='None')"
   ]
  },
  {
   "cell_type": "code",
   "execution_count": 43,
   "metadata": {
    "collapsed": false
   },
   "outputs": [
    {
     "data": {
      "text/plain": [
       "(784,)"
      ]
     },
     "execution_count": 43,
     "metadata": {},
     "output_type": "execute_result"
    }
   ],
   "source": [
    "img_data = 255.0 - img_array.reshape(784)\n",
    "img_data = (img_data/255.0*0.99)+0.01\n",
    "numpy.shape(img_data)"
   ]
  },
  {
   "cell_type": "code",
   "execution_count": 44,
   "metadata": {
    "collapsed": false
   },
   "outputs": [
    {
     "name": "stdout",
     "output_type": "stream",
     "text": [
      "network answer is 5\n"
     ]
    }
   ],
   "source": [
    "answer = n.query(img_data)\n",
    "print(\"network answer is\", numpy.argmax(answer))"
   ]
  },
  {
   "cell_type": "code",
   "execution_count": 45,
   "metadata": {
    "collapsed": false
   },
   "outputs": [
    {
     "name": "stdout",
     "output_type": "stream",
     "text": [
      "[  1.13284350e-04   3.53764749e-05   3.08670669e-04   9.87062615e-06\n",
      "   1.21470703e-04   3.31034324e-01   9.77227471e-04   3.03089141e-05\n",
      "   1.26639491e-04   1.90064124e-06]\n"
     ]
    }
   ],
   "source": [
    "print(answer)"
   ]
  }
 ],
 "metadata": {
  "anaconda-cloud": {},
  "kernelspec": {
   "display_name": "Python [Root]",
   "language": "python",
   "name": "Python [Root]"
  },
  "language_info": {
   "codemirror_mode": {
    "name": "ipython",
    "version": 3
   },
   "file_extension": ".py",
   "mimetype": "text/x-python",
   "name": "python",
   "nbconvert_exporter": "python",
   "pygments_lexer": "ipython3",
   "version": "3.5.2"
  }
 },
 "nbformat": 4,
 "nbformat_minor": 0
}
